{
 "cells": [
  {
   "cell_type": "markdown",
   "metadata": {},
   "source": [
    "## Generating Synthetic Test Datasets\n",
    "\n",
    "**Why use Synthetic Test Datasets?**\n",
    "\n",
    "Evaluating the performance of RAG (Retrieval-Augmented Generation) augmented pipelines is crucial.\n",
    "\n",
    "However, manually creating hundreds of QA (Question-Answer-Context) samples from documents can be time-consuming and labor-intensive. Additionally, human-generated questions may struggle to reach the level of complexity needed for thorough evaluation, ultimately affecting the quality of the assessment.\n",
    "\n",
    "Using synthetic data generation can reduce developer time in the data aggregation process **by up to 90%**.\n"
   ]
  },
  {
   "cell_type": "code",
   "execution_count": 3,
   "metadata": {},
   "outputs": [
    {
     "name": "stdout",
     "output_type": "stream",
     "text": [
      "Requirement already satisfied: pdfplumber in /opt/conda/lib/python3.10/site-packages (0.11.5)\n",
      "Requirement already satisfied: pdfminer.six==20231228 in /opt/conda/lib/python3.10/site-packages (from pdfplumber) (20231228)\n",
      "Requirement already satisfied: Pillow>=9.1 in /opt/conda/lib/python3.10/site-packages (from pdfplumber) (10.4.0)\n",
      "Requirement already satisfied: pypdfium2>=4.18.0 in /opt/conda/lib/python3.10/site-packages (from pdfplumber) (4.30.1)\n",
      "Requirement already satisfied: charset-normalizer>=2.0.0 in /opt/conda/lib/python3.10/site-packages (from pdfminer.six==20231228->pdfplumber) (3.3.2)\n",
      "Requirement already satisfied: cryptography>=36.0.0 in /opt/conda/lib/python3.10/site-packages (from pdfminer.six==20231228->pdfplumber) (42.0.8)\n",
      "Requirement already satisfied: cffi>=1.12 in /opt/conda/lib/python3.10/site-packages (from cryptography>=36.0.0->pdfminer.six==20231228->pdfplumber) (1.16.0)\n",
      "Requirement already satisfied: pycparser in /opt/conda/lib/python3.10/site-packages (from cffi>=1.12->cryptography>=36.0.0->pdfminer.six==20231228->pdfplumber) (2.22)\n"
     ]
    }
   ],
   "source": [
    "! pip install pdfplumber\n"
   ]
  },
  {
   "cell_type": "code",
   "execution_count": 4,
   "metadata": {},
   "outputs": [],
   "source": [
    "import pdfplumber\n",
    "from typing import List, Dict, Any\n",
    "\n",
    "class PDFLoader:\n",
    "    def __init__(self, file_path: str, start_page: int = None, end_page: int = None):\n",
    "        self.file_path = file_path\n",
    "        self.start_page = start_page\n",
    "        self.end_page = end_page\n",
    "\n",
    "    def load(self) -> Dict[str, Any]:\n",
    "        combined_text = \"\"\n",
    "        metadata = {}\n",
    "\n",
    "        with pdfplumber.open(self.file_path) as pdf:\n",
    "            total_pages = len(pdf.pages)\n",
    "\n",
    "            start = (self.start_page or 1) - 1\n",
    "            end = min(self.end_page or total_pages, total_pages)\n",
    "\n",
    "            for page_num in range(start, end):\n",
    "                page = pdf.pages[page_num]\n",
    "                text = page.extract_text()\n",
    "                combined_text += text + \"\\n\"\n",
    "\n",
    "            metadata = {\n",
    "                \"source\": self.file_path,\n",
    "                \"filename\": self.file_path,\n",
    "                \"total_pages\": total_pages,\n",
    "                \"extracted_pages\": f\"{start + 1}-{end}\"\n",
    "            }\n",
    "\n",
    "            for key, value in pdf.metadata.items():\n",
    "                if isinstance(value, (str, int)):\n",
    "                    metadata[key] = value\n",
    "\n",
    "        return {\n",
    "            \"page_content\": combined_text.strip(),\n",
    "            \"metadata\": metadata\n",
    "        }"
   ]
  },
  {
   "cell_type": "markdown",
   "metadata": {},
   "source": [
    "## Document Used for Practice\n",
    "\n",
    "Amazon Bedrock Manual Documentation (https://docs.aws.amazon.com/bedrock/latest/userguide/)\n",
    "\n",
    "- Link: https://d1jp7kj5nqor8j.cloudfront.net/bedrock-manual.pdf\n",
    "- File name: `bedrock-manual.pdf`\n",
    "\n",
    "_Please copy the downloaded file to the data folder for the practice session_"
   ]
  },
  {
   "cell_type": "code",
   "execution_count": 11,
   "metadata": {},
   "outputs": [],
   "source": [
    "loader = PDFLoader(\"../data/241231-Sonnet-recipe.pdf\", start_page=1, end_page=3)\n",
    "docs = loader.load()"
   ]
  },
  {
   "cell_type": "code",
   "execution_count": 12,
   "metadata": {},
   "outputs": [
    {
     "data": {
      "text/plain": [
       "{'page_content': '볶음요리로는 먼저 김치볶음밥이 있는데, 잘 익은 김치를 잘게 썰어 밥과 함께\\n볶다가 마지막에 참기름을 둘러 고소한 향을 더합니다. 제육볶음은 돼지고기를 고\\n추장 양념에 버무려 매콤달콤하게 볶아내며, 양파와 당근 등 채소를 함께 넣어\\n영양을 높입니다. 낙지볶음은 신선한 낙지를 손질해 고추장 양념에 볶아 매콤하게\\n만드는 요리입니다.\\n양식으로는 크림파스타가 대표적인데, 생크림과 마늘, 양파를 볶아 소스를 만들고\\n베이컨이나 새우를 더해 고소하게 완성합니다. 토마토파스타는 토마토소스에 마늘\\n과 양파를 볶아 넣고 바질을 곁들여 상큼한 맛을 냅니다. 미트소스스파게티는 다\\n진 쇠고기를 토마토소스와 함께 오래 끓여 깊은 맛을 만듭니다.\\n일식에서는 돈카츠가 인기 있는 메뉴로, 돼지고기를 얇게 펴서 빵가루를 묻혀 바\\n삭하게 튀겨내고 특제 소스를 곁들입니다. 카레라이스는 당근, 감자, 양파를 카\\n레가루와 함께 끓여 걸쭉한 소스를 만들어 밥에 부어 먹습니다. 오야코동은 닭고\\n기와 달걀을 간장 베이스의 달달한 육수에 조려 밥 위에 올립니다.\\n중식으로는 마파두부가 있는데, 두부와 다진 고기를 매운 두반장 소스에 볶아 만\\n듭니다. 깐풍기는 닭고기를 튀겨서 매콤달콤한 소스를 絡めて만드는 요리이고, 탕\\n수육은 돼지고기를 튀겨서 새콤달콤한 소스를 부어 먹습니다.\\n태국 요리로는 팟타이가 유명한데, 쌀국수를 새우와 함께 볶고 땅콩가루를 뿌려\\n고소한 맛을 냅니다. 그린커리는 코코넛밀크와 향신료를 넣어 만든 커리에 닭고기\\n와 가지를 넣어 끓입니다. 톰얌쿵은 새우와 버섯을 레몬그라스, 카피르라임 등의\\n향신료와 함께 시큼매콤하게 끓이는 수프입니다.\\n베트남 요리에서는 쌀국수인 포가 대표적인데, 소고기 육수에 쌀국수와 고기를 넣\\n고 고수, 숙주나물을 곁들여 먹습니다. 반미는 바게트빵에 각종 채소와 고기를\\n넣어 만드는 샌드위치이며, 분짜는 구운 돼지고기와 쌀국수를 느억맘 소스에 찍어\\n먹는 요리입니다.\\n이탈리아 요리로 더 들어가보면, 리소토는 아르보리오 쌀을 화이트와인과 버터로\\n볶다가 뜨거운 육수를 조금씩 부어가며 천천히 익혀 만듭니다. 라자냐는 파스타\\n면과 미트소스, 베샤멜 소스, 치즈를 층층이 쌓아 오븐에 구워내는 풍성한 요리\\n입니다. 피자는 밀가루 반죽을 얇게 펴서 토마토소스를 바르고 모차렐라 치즈와\\n각종 토핑을 올려 화덕에서 구워냅니다.\\n멕시코 요리에서는 타코가 대표적인데, 또르티야에 구운 고기와 양파, 고수, 라\\n임을 넣어 먹습니다. 엔칠라다는 또르티야에 고기와 치즈를 넣어 말아서 특제 소\\n스를 부어 오븐에 구워냅니다. 부리토는 큰 또르티야에 밥, 콩, 고기, 아보카도\\n등을 넣어 말아먹는 든든한 한 끼 식사입니다.\\n인도 요리로는 버터치킨이 있는데, 요거트로 마리네이드한 닭고기를 탄두르에 구\\n워 토마토와 버터가 들어간 크리미한 커리 소스에 조려냅니다. 팔락 파니르는 시\\n금치 커리에 인도식 치즈인 파니르를 넣어 만드는 채식 요리이고, 달 마크니는\\n렌틸콩을 버터와 크림으로 맛있게 조리한 요리입니다.\\n중동 요리에서는 샤워마가 유명한데, 양고기나 닭고기를 특제 향신료에 재워 수직\\n으로 구워 얇게 썰어 피타빵에 싸먹습니다. 팔라펠은 병아리콩으로 만든 완자를\\n튀겨서 피타빵에 채소와 함께 넣어 먹습니다. 후무스는 병아리콩을 갈아서 타히\\n니, 레몬즙, 올리브오일과 함께 섞어 만드는 디핑소스입니다.\\n한식으로 돌아와서, 갈비찜은 소갈비를 간장 베이스의 달달한 양념으로 푹 조려내\\n는 요리입니다. 닭갈비는 닭고기를 고추장 양념에 채소와 함께 볶아 치즈를 올려\\n먹는 요리이고, 족발은 돼지 앞다리를 향신료와 함께 오래 삶아 쫄깃하게 만듭니\\n다.\\n일식을 더 보면, 규동은 소고기를 달달한 간장 소스로 조려서 밥 위에 올리는 덮\\n밥입니다. 라멘은 진한 육수에 중국식 면을 넣고 차슈와 면발, 죽은 달걀을 올려\\n먹는 국수이고, 우동은 굵은 밀가루 면을 간장 베이스의 국물에 담아 먹습니다.\\n중식으로는 양장피가 있는데, 해파리와 각종 채소, 고기를 참기름 소스에 무치는\\n요리입니다. 어향육슬은 돼지고기를 채썰어 매콤새콤한 소스로 볶아내고, 팔보채\\n는 해산물과 채소를 굴소스로 볶아내는 고급 요리입니다.\\n동남아 요리로, 나시고랭은 인도네시아식 볶음밥으로 새우페이스트로 맛을 내는\\n것이 특징입니다. 락사는 코코넛 커리 수프에 면을 넣어 먹는 싱가포르의 대표\\n요리이고, 할라이는 태국식 바비큐 치킨으로 코코넛밀크에 재워 구워냅니다.\\n서양요리로 더 들어가면, 비프 스트로가노프는 소고기를 버섯과 함께 사워크림 소\\n스에 조리하는 러시아 요리입니다. 코틀렛은 다진 고기를 둥글납작하게 빚어 튀겨\\n내는 동유럽식 돈까스이고, 비프 부르기뇽은 소고기를 레드와인으로 오래 끓여 만\\n드는 프랑스 요리입니다.\\n퓨전요리도 있는데, 김치 파스타는 김치를 다져서 파스타와 함께 볶아내는 한국식\\n퓨전 파스타입니다. 불고기 피자는 한국의 불고기를 피자 토핑으로 활용한 퓨전\\n요리이고, 타코라이스는 멕시코 타코의 속재료를 밥과 함께 먹는 일본식 퓨전요리\\n입니다.\\n프랑스 요리로 더 살펴보면, 코코뱅은 닭고기를 레드와인에 장시간 끓여 만드는\\n전통 요리입니다. 와인의 풍미가 닭고기에 깊이 배어들어 독특한 맛을 자아내며,\\n양파와 버섯, 베이컨을 함께 넣어 풍성한 맛을 더합니다. 라타투이는 가지, 토마\\n토, 호박, 파프리카 등 지중해 채소들을 올리브유로 천천히 익혀 만드는 프로방\\n스 지방의 대표적인 채식 요리입니다. 끼슈는 버터가 듬뿍 들어간 파이 반죽 위\\n에 달걀과 크림을 섞은 커스터드를 붓고 베이컨, 치즈, 채소를 넣어 구워내는 고\\n소한 요리입니다.\\n스페인 요리에서는 빠에야가 유명한데, 사프란으로 노란빛을 낸 쌀에 해산물과 토\\n마토, 완두콩을 넣고 특별한 빠에야 팬에서 구수하게 볶아냅니다. 가스파초는 토\\n마토와 오이, 피망을 갈아서 만드는 차가운 스프로, 더운 여름에 즐기기 좋은 상\\n큼한 요리입니다. 또한 감바스 알 아히요는 마늘과 올리브유에 새우를 볶아 만드\\n는 간단하지만 맛있는 타파스 요리입니다.\\n그리스 요리로는 무사카가 대표적입니다. 가지와 다진 고기를 층층이 쌓고 베샤멜\\n소스를 부어 오븐에 구워내는데, 마치 그리스 버전의 라자냐와 같습니다. 수블라\\n키는 돼지고기를 레몬과 허브로 마리네이드해서 꼬치에 꿰어 구운 다음 피타빵에\\n싸서 먹는 길거리 음식입니다. 돌마데스는 포도잎으로 밥과 다진 고기를 싸서 찐\\n다음 레몬소스를 곁들이는 전통 요리입니다.\\n그리스 요리로는 무사카가 대표적입니다. 가지와 다진 고기를 층층이 쌓고 베샤멜\\n소스를 부어 오븐에 구워내는데, 마치 그리스 버전의 라자냐와 같습니다. 수블라\\n키는 돼지고기를 레몬과 허브로 마리네이드해서 꼬치에 꿰어 구운 다음 피타빵에\\n싸서 먹는 길거리 음식입니다. 돌마데스는 포도잎으로 밥과 다진 고기를 싸서 찐\\n다음 레몬소스를 곁들이는 전통 요리입니다.\\n모로코 요리에서는 타진이 유명합니다. 원뿔 모양의 뚜껑이 있는 특별한 그릇에서\\n양고기나 닭고기를 채소, 건과일, 올리브와 함께 향신료를 넣어 천천히 조리합니\\n다. 쿠스쿠스는 잘게 빻은 밀가루로 만든 알갱이에 채소와 고기를 얹어 먹는 북\\n아프리카의 주식입니다. 파스티야는 달콤하면서도 짭짤한 맛이 나는 파이로, 비둘\\n기고기나 닭고기를 넣고 계피와 설탕을 뿌려 만듭니다.\\n독일 요리로는 슈니첼이 대표적인데, 송아지고기를 얇게 펴서 빵가루를 묻혀 튀긴\\n다음 레몬을 곁들여 먹습니다. 아이스바인은 돼지 정강이를 삶아서 만드는 요리\\n로, 독일식 김치인 자우어크라우트를 곁들입니다. 카세슈팟첸은 치즈를 듬뿍 넣은\\n수제 스파츨레 면에 구운 양파를 올려 만드는 소울푸드입니다.\\n러시아 요리에서 보르시는 비트를 넣어 선명한 붉은색을 내는 수프로, 양배추와\\n감자, 당근 등 다양한 채소와 고기를 넣어 푹 끓입니다. 피로시키는 밀가루 반죽\\n으로 만든 주머니에 고기나 감자, 양배추 등을 넣어 튀기거나 구워 만듭니다. 올\\n리비에 샐러드는 삶은 감자, 당근, 완두콩, 달걀, 닭고기를 마요네즈로 버무린\\n러시아식 감자 샐러드입니다.',\n",
       " 'metadata': {'source': '../data/241231-Sonnet-recipe.pdf',\n",
       "  'filename': '../data/241231-Sonnet-recipe.pdf',\n",
       "  'total_pages': 3,\n",
       "  'extracted_pages': '1-3',\n",
       "  'Title': 'Untitled 2',\n",
       "  'Producer': 'macOS Version 15.1.1 (Build 24B91) Quartz PDFContext',\n",
       "  'Creator': 'TextEdit',\n",
       "  'CreationDate': \"D:20241231014901Z00'00'\",\n",
       "  'ModDate': \"D:20241231014901Z00'00'\"}}"
      ]
     },
     "execution_count": 12,
     "metadata": {},
     "output_type": "execute_result"
    }
   ],
   "source": [
    "docs"
   ]
  },
  {
   "cell_type": "markdown",
   "metadata": {},
   "source": [
    "## Document Preprocessing"
   ]
  },
  {
   "cell_type": "code",
   "execution_count": 13,
   "metadata": {},
   "outputs": [],
   "source": [
    "import re\n",
    "from typing import List, Optional\n",
    "\n",
    "def split_text(text: str, chunk_size: int = 1000, chunk_overlap: int = 100, separators: Optional[List[str]] = None) -> List[str]:\n",
    "    separators = separators or [\"\\n\\n\", \"\\n\", \" \", \"\"]\n",
    "\n",
    "    def _split_text_recursive(text: str, separators: List[str]) -> List[str]:\n",
    "        if not separators:\n",
    "            return [text]\n",
    "\n",
    "        separator = separators[0]\n",
    "        splits = re.split(f\"({re.escape(separator)})\", text)\n",
    "        splits = [\"\".join(splits[i:i+2]) for i in range(0, len(splits), 2)]\n",
    "\n",
    "        final_chunks = []\n",
    "        current_chunk = \"\"\n",
    "\n",
    "        for split in splits:\n",
    "            if len(current_chunk) + len(split) <= chunk_size:\n",
    "                current_chunk += split\n",
    "            else:\n",
    "                if current_chunk:\n",
    "                    final_chunks.append(current_chunk)\n",
    "                if len(split) > chunk_size:\n",
    "                    subsplits = _split_text_recursive(split, separators[1:])\n",
    "                    final_chunks.extend(subsplits)\n",
    "                else:\n",
    "                    current_chunk = split\n",
    "\n",
    "        if current_chunk:\n",
    "            final_chunks.append(current_chunk)\n",
    "\n",
    "        return final_chunks\n",
    "\n",
    "    chunks = _split_text_recursive(text, separators)\n",
    "\n",
    "    if chunk_overlap > 0:\n",
    "        overlapped_chunks = []\n",
    "        for i, chunk in enumerate(chunks):\n",
    "            if i == 0:\n",
    "                overlapped_chunks.append(chunk)\n",
    "            else:\n",
    "                overlap_text = chunks[i-1][-chunk_overlap:]\n",
    "                overlapped_chunks.append(overlap_text + chunk)\n",
    "        chunks = overlapped_chunks\n",
    "\n",
    "    return chunks"
   ]
  },
  {
   "cell_type": "code",
   "execution_count": 14,
   "metadata": {},
   "outputs": [
    {
     "data": {
      "text/plain": [
       "4"
      ]
     },
     "execution_count": 14,
     "metadata": {},
     "output_type": "execute_result"
    }
   ],
   "source": [
    "chunks = split_text(docs['page_content'], 1000, 0)\n",
    "len(chunks)"
   ]
  },
  {
   "cell_type": "code",
   "execution_count": 15,
   "metadata": {},
   "outputs": [],
   "source": [
    "chunks_with_metadata = []\n",
    "for i, chunk in enumerate(chunks):\n",
    "    chunks_with_metadata.append({\n",
    "        'content': chunk,\n",
    "        'metadata': {\n",
    "            'chunk_id': i,\n",
    "            'filename': docs['metadata'].get('filename', 'unknown')\n",
    "        }\n",
    "    })"
   ]
  },
  {
   "cell_type": "code",
   "execution_count": 16,
   "metadata": {},
   "outputs": [
    {
     "data": {
      "text/plain": [
       "{'content': '볶음요리로는 먼저 김치볶음밥이 있는데, 잘 익은 김치를 잘게 썰어 밥과 함께\\n볶다가 마지막에 참기름을 둘러 고소한 향을 더합니다. 제육볶음은 돼지고기를 고\\n추장 양념에 버무려 매콤달콤하게 볶아내며, 양파와 당근 등 채소를 함께 넣어\\n영양을 높입니다. 낙지볶음은 신선한 낙지를 손질해 고추장 양념에 볶아 매콤하게\\n만드는 요리입니다.\\n양식으로는 크림파스타가 대표적인데, 생크림과 마늘, 양파를 볶아 소스를 만들고\\n베이컨이나 새우를 더해 고소하게 완성합니다. 토마토파스타는 토마토소스에 마늘\\n과 양파를 볶아 넣고 바질을 곁들여 상큼한 맛을 냅니다. 미트소스스파게티는 다\\n진 쇠고기를 토마토소스와 함께 오래 끓여 깊은 맛을 만듭니다.\\n일식에서는 돈카츠가 인기 있는 메뉴로, 돼지고기를 얇게 펴서 빵가루를 묻혀 바\\n삭하게 튀겨내고 특제 소스를 곁들입니다. 카레라이스는 당근, 감자, 양파를 카\\n레가루와 함께 끓여 걸쭉한 소스를 만들어 밥에 부어 먹습니다. 오야코동은 닭고\\n기와 달걀을 간장 베이스의 달달한 육수에 조려 밥 위에 올립니다.\\n중식으로는 마파두부가 있는데, 두부와 다진 고기를 매운 두반장 소스에 볶아 만\\n듭니다. 깐풍기는 닭고기를 튀겨서 매콤달콤한 소스를 絡めて만드는 요리이고, 탕\\n수육은 돼지고기를 튀겨서 새콤달콤한 소스를 부어 먹습니다.\\n태국 요리로는 팟타이가 유명한데, 쌀국수를 새우와 함께 볶고 땅콩가루를 뿌려\\n고소한 맛을 냅니다. 그린커리는 코코넛밀크와 향신료를 넣어 만든 커리에 닭고기\\n와 가지를 넣어 끓입니다. 톰얌쿵은 새우와 버섯을 레몬그라스, 카피르라임 등의\\n향신료와 함께 시큼매콤하게 끓이는 수프입니다.\\n베트남 요리에서는 쌀국수인 포가 대표적인데, 소고기 육수에 쌀국수와 고기를 넣\\n고 고수, 숙주나물을 곁들여 먹습니다. 반미는 바게트빵에 각종 채소와 고기를\\n넣어 만드는 샌드위치이며, 분짜는 구운 돼지고기와 쌀국수를 느억맘 소스에 찍어\\n먹는 요리입니다.\\n이탈리아 요리로 더 들어가보면, 리소토는 아르보리오 쌀을 화이트와인과 버터로\\n',\n",
       " 'metadata': {'chunk_id': 0, 'filename': '../data/241231-Sonnet-recipe.pdf'}}"
      ]
     },
     "execution_count": 16,
     "metadata": {},
     "output_type": "execute_result"
    }
   ],
   "source": [
    "chunks_with_metadata[0]"
   ]
  },
  {
   "cell_type": "markdown",
   "metadata": {},
   "source": [
    "## Test Q&A Dataset Generation"
   ]
  },
  {
   "cell_type": "code",
   "execution_count": 17,
   "metadata": {},
   "outputs": [],
   "source": [
    "import boto3\n",
    "from botocore.config import Config\n",
    "\n",
    "region = 'us-west-2'\n",
    "retry_config = Config(\n",
    "    region_name=region,\n",
    "    retries={\"max_attempts\": 10, \"mode\": \"standard\"}\n",
    ")\n",
    "boto3_client = boto3.client(\"bedrock-runtime\", region_name=region, config=retry_config)"
   ]
  },
  {
   "cell_type": "code",
   "execution_count": 18,
   "metadata": {},
   "outputs": [],
   "source": [
    "import random\n",
    "import json\n",
    "from time import sleep\n",
    "\n",
    "def converse_with_bedrock(model_id, sys_prompt, usr_prompt):\n",
    "    temperature = 0.5\n",
    "    top_p = 0.9\n",
    "    inference_config = {\"temperature\": temperature, \"topP\": top_p}\n",
    "    response = boto3_client.converse(\n",
    "        modelId=model_id,\n",
    "        messages=usr_prompt, \n",
    "        system=sys_prompt,\n",
    "        inferenceConfig=inference_config,\n",
    "    )\n",
    "    return response\n",
    "\n",
    "def create_prompt(sys_template, user_template):\n",
    "    sys_prompt = [{\"text\": sys_template}]\n",
    "    usr_prompt = [{\"role\": \"user\", \"content\": [{\"text\": user_template}]}]\n",
    "    return sys_prompt, usr_prompt\n",
    "\n",
    "def get_context_chunks(chunks_with_metadata, start_id):\n",
    "    context_chunks = [\n",
    "        chunks_with_metadata[start_id]['content'],\n",
    "        chunks_with_metadata[start_id + 1]['content'],\n",
    "        chunks_with_metadata[start_id + 2]['content']\n",
    "    ]\n",
    "    return \" \".join(context_chunks)"
   ]
  },
  {
   "cell_type": "markdown",
   "metadata": {},
   "source": [
    "### Tool Use \n",
    "\n",
    "LLM will generate Q&A dataset that conforms to the schema description in the tooluse config."
   ]
  },
  {
   "cell_type": "code",
   "execution_count": 19,
   "metadata": {},
   "outputs": [],
   "source": [
    "tool_config = {\n",
    "    \"tools\": [\n",
    "        {\n",
    "            \"toolSpec\": {\n",
    "                \"name\": \"QuestionAnswerGenerator\",\n",
    "                \"description\": \"Generates questions and answers based on the given context.\",\n",
    "                \"inputSchema\": {\n",
    "                    \"json\": {\n",
    "                        \"type\": \"object\",\n",
    "                        \"properties\": {\n",
    "                            \"question\": {\n",
    "                                \"type\": \"string\",\n",
    "                                \"description\": \"The generated question\"\n",
    "                            },\n",
    "                            \"answer\": {\n",
    "                                \"type\": \"string\",\n",
    "                                \"description\": \"The answer to the generated question\"\n",
    "                            }\n",
    "                        },\n",
    "                        \"required\": [\"question\", \"answer\"]\n",
    "                    }\n",
    "                }\n",
    "            }\n",
    "        }\n",
    "    ]\n",
    "}"
   ]
  },
  {
   "cell_type": "code",
   "execution_count": 20,
   "metadata": {},
   "outputs": [],
   "source": [
    "def converse_with_bedrock_tools(sys_prompt, usr_prompt, tool_config):\n",
    "    temperature = 0.0\n",
    "    top_p = 0.1\n",
    "    top_k = 1\n",
    "    inference_config = {\"temperature\": temperature, \"topP\": top_p}\n",
    "    additional_model_fields = {\"top_k\": top_k}\n",
    "    response = boto3_client.converse(\n",
    "        modelId=\"anthropic.claude-3-5-sonnet-20240620-v1:0\",\n",
    "        messages=usr_prompt,\n",
    "        system=sys_prompt,\n",
    "        inferenceConfig=inference_config,\n",
    "        additionalModelRequestFields=additional_model_fields,\n",
    "        toolConfig=tool_config\n",
    "    )\n",
    "    return response\n",
    "\n",
    "def parse_tool_use(message):\n",
    "    stop_reason = message['stopReason']\n",
    "\n",
    "    if stop_reason == 'tool_use':\n",
    "        tool_requests = message['output']['message']['content']\n",
    "        for tool_request in tool_requests:\n",
    "            if 'toolUse' in tool_request:\n",
    "                tool = tool_request['toolUse']\n",
    "\n",
    "                if tool['name'] == 'QuestionAnswerGenerator':\n",
    "                    return tool['input']\n",
    "    return None"
   ]
  },
  {
   "cell_type": "markdown",
   "metadata": {},
   "source": [
    "## Q&A Dataset Generation Instruction\n",
    "\n",
    "- `simple`: directly answerable questions from the given context\n",
    "- `complex`: reasoning questions and answers.\n",
    "\n",
    "_Modify the system/user prompts tailored to your dataset_\n",
    "\n",
    "Generated Q&A pair will be stored in `data/qa_dataset.jsonl`"
   ]
  },
  {
   "cell_type": "code",
   "execution_count": 29,
   "metadata": {},
   "outputs": [],
   "source": [
    "def generate_qa_dataset(chunks, num_pairs=5, output_file=\"../data/sample_qa_dataset.jsonl\"):\n",
    "    total_chunks = len(chunks)\n",
    "    dataset = []\n",
    "\n",
    "    for i in range(num_pairs):\n",
    "        start_id = random.randint(0, total_chunks - 3)\n",
    "        context = get_context_chunks(chunks_with_metadata, start_id)\n",
    "\n",
    "        if i % 2 == 0:\n",
    "            sys_template = \"\"\"\n",
    "            You are an expert at generating practical questions based on given documentation.\n",
    "            Your task is to generate complex, reasoning questions and answers in korean.\n",
    "\n",
    "            Follow these rules:\n",
    "            1. Generate questions that reflect real user information needs related to the document's subject matter (e.g., technical docs : feature availability, implementation details)\n",
    "            2. Ensure questions are relevant, concise, preferably under 25 words, and fully answerable with the provided information\n",
    "            3. Focus on extracting key information that users are likely to seek, while avoiding narrow or less important questions.\n",
    "            4. When provided with code blocks, focus on understanding the overall functionality rather than the specific syntax or variables. Feel free to request examples of how to use key APIs or features.\n",
    "            5. Do not use phrases like 'based on the provided context' or 'according to the context'.\n",
    "            \"\"\"\n",
    "            question_type = \"complex\"\n",
    "        else:\n",
    "            sys_template = \"\"\"\n",
    "            You are an expert at generating practical questions based on given documentation.\n",
    "            Your task is to create simple, directly answerable questions from the given context in korean.\n",
    "\n",
    "            Follow these rules:\n",
    "            1. Generate questions that reflect real user information needs related to the document's subject matter (e.g., technical docs : feature availability, implementation details)\n",
    "            2. Ensure questions are relevant, concise, preferably under 10 words, and fully answerable with the provided information\n",
    "            3. Focus on extracting key information that users are likely to seek, while avoiding narrow or less important questions.\n",
    "            4. When provided with code blocks, focus on understanding the overall functionality rather than the specific syntax or variables. Feel free to request examples of how to use key APIs or features.\n",
    "            5. Do not use phrases like 'based on the provided context' or 'according to the context'.\n",
    "            \"\"\"\n",
    "            question_type = \"simple\"\n",
    "\n",
    "        user_template = f\"\"\"\n",
    "        Generate a {question_type} question and its answer based on the following context:\n",
    "\n",
    "        Context: {context}\n",
    "\n",
    "        Use the QuestionAnswerGenerator tool to provide the output.\n",
    "        \"\"\"\n",
    "\n",
    "        sys_prompt, user_prompt = create_prompt(sys_template, user_template)\n",
    "        response = converse_with_bedrock_tools(sys_prompt, user_prompt, tool_config)\n",
    "        qa_data = parse_tool_use(response)\n",
    "\n",
    "        if qa_data:\n",
    "            qa_item = {\n",
    "                \"question\": qa_data[\"question\"],\n",
    "                \"ground_truth\": qa_data[\"answer\"],\n",
    "                \"question_type\": question_type,\n",
    "                \"contexts\": context\n",
    "            }\n",
    "\n",
    "            print(qa_item)\n",
    "\n",
    "            with open(output_file, 'a') as f:\n",
    "                json.dump(qa_item, f)\n",
    "                f.write('\\n')\n",
    "\n",
    "            dataset.append(qa_item)\n",
    "\n",
    "        sleep(5)\n",
    "\n",
    "    return dataset"
   ]
  },
  {
   "cell_type": "code",
   "execution_count": 30,
   "metadata": {},
   "outputs": [
    {
     "name": "stdout",
     "output_type": "stream",
     "text": [
      "{'question': '한국, 이탈리아, 태국의 대표적인 요리들을 각각 하나씩 선택하여, 이 요리들의 주요 재료와 조리 방법의 유사점과 차이점을 비교 분석해보세요. 특히 각 요리의 문화적 특성이 어떻게 반영되어 있는지 설명해주세요.', 'ground_truth': '한국의 김치볶음밥, 이탈리아의 리소토, 태국의 팟타이를 비교해보겠습니다.\\n\\n1. 주요 재료:\\n- 김치볶음밥: 밥, 김치, 참기름\\n- 리소토: 아르보리오 쌀, 화이트와인, 버터, 육수\\n- 팟타이: 쌀국수, 새우, 땅콩가루\\n\\n2. 조리 방법:\\n유사점: 세 요리 모두 볶는 조리법을 사용합니다.\\n차이점: \\n- 김치볶음밥: 빠르게 고열로 볶아 만듭니다.\\n- 리소토: 천천히 육수를 넣어가며 졸이듯이 조리합니다.\\n- 팟타이: 중간 불에서 재료를 순서대로 넣어가며 볶습니다.\\n\\n3. 문화적 특성:\\n- 김치볶음밥: 한국의 발효 문화를 대표하는 김치를 활용하여 간편하게 만드는 요리로, 한국인의 실용적이고 빠른 식문화를 반영합니다.\\n- 리소토: 이탈리아의 여유로운 식문화를 반영하여 천천히 정성을 들여 만듭니다. 와인을 사용하는 것은 이탈리아의 와인 문화를 보여줍니다.\\n- 팟타이: 태국의 길거리 음식 문화를 대표하며, 다양한 재료와 맛(새콤, 달콤, 고소함)의 조화를 중시하는 태국 요리의 특징을 잘 보여줍니다.\\n\\n이처럼 세 요리는 모두 볶음 요리이지만, 각 나라의 고유한 식재료와 조리 방식, 그리고 식문화적 특성을 뚜렷하게 반영하고 있습니다.', 'question_type': 'complex', 'contexts': '볶음요리로는 먼저 김치볶음밥이 있는데, 잘 익은 김치를 잘게 썰어 밥과 함께\\n볶다가 마지막에 참기름을 둘러 고소한 향을 더합니다. 제육볶음은 돼지고기를 고\\n추장 양념에 버무려 매콤달콤하게 볶아내며, 양파와 당근 등 채소를 함께 넣어\\n영양을 높입니다. 낙지볶음은 신선한 낙지를 손질해 고추장 양념에 볶아 매콤하게\\n만드는 요리입니다.\\n양식으로는 크림파스타가 대표적인데, 생크림과 마늘, 양파를 볶아 소스를 만들고\\n베이컨이나 새우를 더해 고소하게 완성합니다. 토마토파스타는 토마토소스에 마늘\\n과 양파를 볶아 넣고 바질을 곁들여 상큼한 맛을 냅니다. 미트소스스파게티는 다\\n진 쇠고기를 토마토소스와 함께 오래 끓여 깊은 맛을 만듭니다.\\n일식에서는 돈카츠가 인기 있는 메뉴로, 돼지고기를 얇게 펴서 빵가루를 묻혀 바\\n삭하게 튀겨내고 특제 소스를 곁들입니다. 카레라이스는 당근, 감자, 양파를 카\\n레가루와 함께 끓여 걸쭉한 소스를 만들어 밥에 부어 먹습니다. 오야코동은 닭고\\n기와 달걀을 간장 베이스의 달달한 육수에 조려 밥 위에 올립니다.\\n중식으로는 마파두부가 있는데, 두부와 다진 고기를 매운 두반장 소스에 볶아 만\\n듭니다. 깐풍기는 닭고기를 튀겨서 매콤달콤한 소스를 絡めて만드는 요리이고, 탕\\n수육은 돼지고기를 튀겨서 새콤달콤한 소스를 부어 먹습니다.\\n태국 요리로는 팟타이가 유명한데, 쌀국수를 새우와 함께 볶고 땅콩가루를 뿌려\\n고소한 맛을 냅니다. 그린커리는 코코넛밀크와 향신료를 넣어 만든 커리에 닭고기\\n와 가지를 넣어 끓입니다. 톰얌쿵은 새우와 버섯을 레몬그라스, 카피르라임 등의\\n향신료와 함께 시큼매콤하게 끓이는 수프입니다.\\n베트남 요리에서는 쌀국수인 포가 대표적인데, 소고기 육수에 쌀국수와 고기를 넣\\n고 고수, 숙주나물을 곁들여 먹습니다. 반미는 바게트빵에 각종 채소와 고기를\\n넣어 만드는 샌드위치이며, 분짜는 구운 돼지고기와 쌀국수를 느억맘 소스에 찍어\\n먹는 요리입니다.\\n이탈리아 요리로 더 들어가보면, 리소토는 아르보리오 쌀을 화이트와인과 버터로\\n 볶다가 뜨거운 육수를 조금씩 부어가며 천천히 익혀 만듭니다. 라자냐는 파스타\\n면과 미트소스, 베샤멜 소스, 치즈를 층층이 쌓아 오븐에 구워내는 풍성한 요리\\n입니다. 피자는 밀가루 반죽을 얇게 펴서 토마토소스를 바르고 모차렐라 치즈와\\n각종 토핑을 올려 화덕에서 구워냅니다.\\n멕시코 요리에서는 타코가 대표적인데, 또르티야에 구운 고기와 양파, 고수, 라\\n임을 넣어 먹습니다. 엔칠라다는 또르티야에 고기와 치즈를 넣어 말아서 특제 소\\n스를 부어 오븐에 구워냅니다. 부리토는 큰 또르티야에 밥, 콩, 고기, 아보카도\\n등을 넣어 말아먹는 든든한 한 끼 식사입니다.\\n인도 요리로는 버터치킨이 있는데, 요거트로 마리네이드한 닭고기를 탄두르에 구\\n워 토마토와 버터가 들어간 크리미한 커리 소스에 조려냅니다. 팔락 파니르는 시\\n금치 커리에 인도식 치즈인 파니르를 넣어 만드는 채식 요리이고, 달 마크니는\\n렌틸콩을 버터와 크림으로 맛있게 조리한 요리입니다.\\n중동 요리에서는 샤워마가 유명한데, 양고기나 닭고기를 특제 향신료에 재워 수직\\n으로 구워 얇게 썰어 피타빵에 싸먹습니다. 팔라펠은 병아리콩으로 만든 완자를\\n튀겨서 피타빵에 채소와 함께 넣어 먹습니다. 후무스는 병아리콩을 갈아서 타히\\n니, 레몬즙, 올리브오일과 함께 섞어 만드는 디핑소스입니다.\\n한식으로 돌아와서, 갈비찜은 소갈비를 간장 베이스의 달달한 양념으로 푹 조려내\\n는 요리입니다. 닭갈비는 닭고기를 고추장 양념에 채소와 함께 볶아 치즈를 올려\\n먹는 요리이고, 족발은 돼지 앞다리를 향신료와 함께 오래 삶아 쫄깃하게 만듭니\\n다.\\n일식을 더 보면, 규동은 소고기를 달달한 간장 소스로 조려서 밥 위에 올리는 덮\\n밥입니다. 라멘은 진한 육수에 중국식 면을 넣고 차슈와 면발, 죽은 달걀을 올려\\n먹는 국수이고, 우동은 굵은 밀가루 면을 간장 베이스의 국물에 담아 먹습니다.\\n중식으로는 양장피가 있는데, 해파리와 각종 채소, 고기를 참기름 소스에 무치는\\n요리입니다. 어향육슬은 돼지고기를 채썰어 매콤새콤한 소스로 볶아내고, 팔보채\\n 는 해산물과 채소를 굴소스로 볶아내는 고급 요리입니다.\\n동남아 요리로, 나시고랭은 인도네시아식 볶음밥으로 새우페이스트로 맛을 내는\\n것이 특징입니다. 락사는 코코넛 커리 수프에 면을 넣어 먹는 싱가포르의 대표\\n요리이고, 할라이는 태국식 바비큐 치킨으로 코코넛밀크에 재워 구워냅니다.\\n서양요리로 더 들어가면, 비프 스트로가노프는 소고기를 버섯과 함께 사워크림 소\\n스에 조리하는 러시아 요리입니다. 코틀렛은 다진 고기를 둥글납작하게 빚어 튀겨\\n내는 동유럽식 돈까스이고, 비프 부르기뇽은 소고기를 레드와인으로 오래 끓여 만\\n드는 프랑스 요리입니다.\\n퓨전요리도 있는데, 김치 파스타는 김치를 다져서 파스타와 함께 볶아내는 한국식\\n퓨전 파스타입니다. 불고기 피자는 한국의 불고기를 피자 토핑으로 활용한 퓨전\\n요리이고, 타코라이스는 멕시코 타코의 속재료를 밥과 함께 먹는 일본식 퓨전요리\\n입니다.\\n프랑스 요리로 더 살펴보면, 코코뱅은 닭고기를 레드와인에 장시간 끓여 만드는\\n전통 요리입니다. 와인의 풍미가 닭고기에 깊이 배어들어 독특한 맛을 자아내며,\\n양파와 버섯, 베이컨을 함께 넣어 풍성한 맛을 더합니다. 라타투이는 가지, 토마\\n토, 호박, 파프리카 등 지중해 채소들을 올리브유로 천천히 익혀 만드는 프로방\\n스 지방의 대표적인 채식 요리입니다. 끼슈는 버터가 듬뿍 들어간 파이 반죽 위\\n에 달걀과 크림을 섞은 커스터드를 붓고 베이컨, 치즈, 채소를 넣어 구워내는 고\\n소한 요리입니다.\\n스페인 요리에서는 빠에야가 유명한데, 사프란으로 노란빛을 낸 쌀에 해산물과 토\\n마토, 완두콩을 넣고 특별한 빠에야 팬에서 구수하게 볶아냅니다. 가스파초는 토\\n마토와 오이, 피망을 갈아서 만드는 차가운 스프로, 더운 여름에 즐기기 좋은 상\\n큼한 요리입니다. 또한 감바스 알 아히요는 마늘과 올리브유에 새우를 볶아 만드\\n는 간단하지만 맛있는 타파스 요리입니다.\\n그리스 요리로는 무사카가 대표적입니다. 가지와 다진 고기를 층층이 쌓고 베샤멜\\n'}\n",
      "{'question': '타진은 어떤 나라의 요리이며 어떻게 만드나요?', 'ground_truth': '타진은 모로코 요리입니다. 원뿔 모양의 뚜껑이 있는 특별한 그릇에서 양고기나 닭고기를 채소, 건과일, 올리브와 함께 향신료를 넣어 천천히 조리합니다.', 'question_type': 'simple', 'contexts': '볶다가 뜨거운 육수를 조금씩 부어가며 천천히 익혀 만듭니다. 라자냐는 파스타\\n면과 미트소스, 베샤멜 소스, 치즈를 층층이 쌓아 오븐에 구워내는 풍성한 요리\\n입니다. 피자는 밀가루 반죽을 얇게 펴서 토마토소스를 바르고 모차렐라 치즈와\\n각종 토핑을 올려 화덕에서 구워냅니다.\\n멕시코 요리에서는 타코가 대표적인데, 또르티야에 구운 고기와 양파, 고수, 라\\n임을 넣어 먹습니다. 엔칠라다는 또르티야에 고기와 치즈를 넣어 말아서 특제 소\\n스를 부어 오븐에 구워냅니다. 부리토는 큰 또르티야에 밥, 콩, 고기, 아보카도\\n등을 넣어 말아먹는 든든한 한 끼 식사입니다.\\n인도 요리로는 버터치킨이 있는데, 요거트로 마리네이드한 닭고기를 탄두르에 구\\n워 토마토와 버터가 들어간 크리미한 커리 소스에 조려냅니다. 팔락 파니르는 시\\n금치 커리에 인도식 치즈인 파니르를 넣어 만드는 채식 요리이고, 달 마크니는\\n렌틸콩을 버터와 크림으로 맛있게 조리한 요리입니다.\\n중동 요리에서는 샤워마가 유명한데, 양고기나 닭고기를 특제 향신료에 재워 수직\\n으로 구워 얇게 썰어 피타빵에 싸먹습니다. 팔라펠은 병아리콩으로 만든 완자를\\n튀겨서 피타빵에 채소와 함께 넣어 먹습니다. 후무스는 병아리콩을 갈아서 타히\\n니, 레몬즙, 올리브오일과 함께 섞어 만드는 디핑소스입니다.\\n한식으로 돌아와서, 갈비찜은 소갈비를 간장 베이스의 달달한 양념으로 푹 조려내\\n는 요리입니다. 닭갈비는 닭고기를 고추장 양념에 채소와 함께 볶아 치즈를 올려\\n먹는 요리이고, 족발은 돼지 앞다리를 향신료와 함께 오래 삶아 쫄깃하게 만듭니\\n다.\\n일식을 더 보면, 규동은 소고기를 달달한 간장 소스로 조려서 밥 위에 올리는 덮\\n밥입니다. 라멘은 진한 육수에 중국식 면을 넣고 차슈와 면발, 죽은 달걀을 올려\\n먹는 국수이고, 우동은 굵은 밀가루 면을 간장 베이스의 국물에 담아 먹습니다.\\n중식으로는 양장피가 있는데, 해파리와 각종 채소, 고기를 참기름 소스에 무치는\\n요리입니다. 어향육슬은 돼지고기를 채썰어 매콤새콤한 소스로 볶아내고, 팔보채\\n 는 해산물과 채소를 굴소스로 볶아내는 고급 요리입니다.\\n동남아 요리로, 나시고랭은 인도네시아식 볶음밥으로 새우페이스트로 맛을 내는\\n것이 특징입니다. 락사는 코코넛 커리 수프에 면을 넣어 먹는 싱가포르의 대표\\n요리이고, 할라이는 태국식 바비큐 치킨으로 코코넛밀크에 재워 구워냅니다.\\n서양요리로 더 들어가면, 비프 스트로가노프는 소고기를 버섯과 함께 사워크림 소\\n스에 조리하는 러시아 요리입니다. 코틀렛은 다진 고기를 둥글납작하게 빚어 튀겨\\n내는 동유럽식 돈까스이고, 비프 부르기뇽은 소고기를 레드와인으로 오래 끓여 만\\n드는 프랑스 요리입니다.\\n퓨전요리도 있는데, 김치 파스타는 김치를 다져서 파스타와 함께 볶아내는 한국식\\n퓨전 파스타입니다. 불고기 피자는 한국의 불고기를 피자 토핑으로 활용한 퓨전\\n요리이고, 타코라이스는 멕시코 타코의 속재료를 밥과 함께 먹는 일본식 퓨전요리\\n입니다.\\n프랑스 요리로 더 살펴보면, 코코뱅은 닭고기를 레드와인에 장시간 끓여 만드는\\n전통 요리입니다. 와인의 풍미가 닭고기에 깊이 배어들어 독특한 맛을 자아내며,\\n양파와 버섯, 베이컨을 함께 넣어 풍성한 맛을 더합니다. 라타투이는 가지, 토마\\n토, 호박, 파프리카 등 지중해 채소들을 올리브유로 천천히 익혀 만드는 프로방\\n스 지방의 대표적인 채식 요리입니다. 끼슈는 버터가 듬뿍 들어간 파이 반죽 위\\n에 달걀과 크림을 섞은 커스터드를 붓고 베이컨, 치즈, 채소를 넣어 구워내는 고\\n소한 요리입니다.\\n스페인 요리에서는 빠에야가 유명한데, 사프란으로 노란빛을 낸 쌀에 해산물과 토\\n마토, 완두콩을 넣고 특별한 빠에야 팬에서 구수하게 볶아냅니다. 가스파초는 토\\n마토와 오이, 피망을 갈아서 만드는 차가운 스프로, 더운 여름에 즐기기 좋은 상\\n큼한 요리입니다. 또한 감바스 알 아히요는 마늘과 올리브유에 새우를 볶아 만드\\n는 간단하지만 맛있는 타파스 요리입니다.\\n그리스 요리로는 무사카가 대표적입니다. 가지와 다진 고기를 층층이 쌓고 베샤멜\\n 소스를 부어 오븐에 구워내는데, 마치 그리스 버전의 라자냐와 같습니다. 수블라\\n키는 돼지고기를 레몬과 허브로 마리네이드해서 꼬치에 꿰어 구운 다음 피타빵에\\n싸서 먹는 길거리 음식입니다. 돌마데스는 포도잎으로 밥과 다진 고기를 싸서 찐\\n다음 레몬소스를 곁들이는 전통 요리입니다.\\n그리스 요리로는 무사카가 대표적입니다. 가지와 다진 고기를 층층이 쌓고 베샤멜\\n소스를 부어 오븐에 구워내는데, 마치 그리스 버전의 라자냐와 같습니다. 수블라\\n키는 돼지고기를 레몬과 허브로 마리네이드해서 꼬치에 꿰어 구운 다음 피타빵에\\n싸서 먹는 길거리 음식입니다. 돌마데스는 포도잎으로 밥과 다진 고기를 싸서 찐\\n다음 레몬소스를 곁들이는 전통 요리입니다.\\n모로코 요리에서는 타진이 유명합니다. 원뿔 모양의 뚜껑이 있는 특별한 그릇에서\\n양고기나 닭고기를 채소, 건과일, 올리브와 함께 향신료를 넣어 천천히 조리합니\\n다. 쿠스쿠스는 잘게 빻은 밀가루로 만든 알갱이에 채소와 고기를 얹어 먹는 북\\n아프리카의 주식입니다. 파스티야는 달콤하면서도 짭짤한 맛이 나는 파이로, 비둘\\n기고기나 닭고기를 넣고 계피와 설탕을 뿌려 만듭니다.\\n독일 요리로는 슈니첼이 대표적인데, 송아지고기를 얇게 펴서 빵가루를 묻혀 튀긴\\n다음 레몬을 곁들여 먹습니다. 아이스바인은 돼지 정강이를 삶아서 만드는 요리\\n로, 독일식 김치인 자우어크라우트를 곁들입니다. 카세슈팟첸은 치즈를 듬뿍 넣은\\n수제 스파츨레 면에 구운 양파를 올려 만드는 소울푸드입니다.\\n러시아 요리에서 보르시는 비트를 넣어 선명한 붉은색을 내는 수프로, 양배추와\\n감자, 당근 등 다양한 채소와 고기를 넣어 푹 끓입니다. 피로시키는 밀가루 반죽\\n으로 만든 주머니에 고기나 감자, 양배추 등을 넣어 튀기거나 구워 만듭니다. 올\\n리비에 샐러드는 삶은 감자, 당근, 완두콩, 달걀, 닭고기를 마요네즈로 버무린\\n러시아식 감자 샐러드입니다.'}\n",
      "{'question': '한국, 이탈리아, 태국의 요리를 각각 하나씩 선택하여, 이 요리들의 공통점과 차이점을 조리 방법과 주요 재료를 중심으로 비교 분석해보세요.', 'ground_truth': '한국의 김치볶음밥, 이탈리아의 리소토, 태국의 팟타이를 비교해보겠습니다.\\n\\n공통점:\\n1. 모두 쌀을 주재료로 사용합니다. 김치볶음밥과 리소토는 일반 쌀을, 팟타이는 쌀국수를 사용합니다.\\n2. 세 요리 모두 볶는 조리법을 사용합니다.\\n3. 각 요리에 특색 있는 향신료나 조미료를 사용하여 고유의 풍미를 냅니다.\\n\\n차이점:\\n1. 조리 방법:\\n   - 김치볶음밥: 김치와 밥을 함께 빠르게 볶아 조리합니다.\\n   - 리소토: 쌀을 천천히 볶으면서 육수를 조금씩 부어가며 오랜 시간 조리합니다.\\n   - 팟타이: 쌀국수를 볶되, 다른 재료들과 함께 빠르게 조리합니다.\\n\\n2. 주요 재료:\\n   - 김치볶음밥: 김치가 핵심 재료이며, 마지막에 참기름을 사용합니다.\\n   - 리소토: 아르보리오 쌀, 화이트와인, 버터가 특징적인 재료입니다.\\n   - 팟타이: 쌀국수, 새우, 땅콩가루가 주요 재료입니다.\\n\\n3. 맛과 향:\\n   - 김치볶음밥: 김치의 매콤새콤한 맛과 참기름의 고소한 향이 특징입니다.\\n   - 리소토: 버터와 치즈의 고소함, 와인의 풍미가 어우러진 크리미한 맛이 특징입니다.\\n   - 팟타이: 새우의 감칠맛, 땅콩의 고소함, 타마린드 소스의 새콤달콤한 맛이 조화를 이룹니다.\\n\\n이처럼 세 요리는 쌀을 주재료로 사용하고 볶는 조리법을 공유하지만, 각 나라의 고유한 식재료와 조리 기법을 통해 독특한 맛과 특징을 가지고 있습니다.', 'question_type': 'complex', 'contexts': '볶음요리로는 먼저 김치볶음밥이 있는데, 잘 익은 김치를 잘게 썰어 밥과 함께\\n볶다가 마지막에 참기름을 둘러 고소한 향을 더합니다. 제육볶음은 돼지고기를 고\\n추장 양념에 버무려 매콤달콤하게 볶아내며, 양파와 당근 등 채소를 함께 넣어\\n영양을 높입니다. 낙지볶음은 신선한 낙지를 손질해 고추장 양념에 볶아 매콤하게\\n만드는 요리입니다.\\n양식으로는 크림파스타가 대표적인데, 생크림과 마늘, 양파를 볶아 소스를 만들고\\n베이컨이나 새우를 더해 고소하게 완성합니다. 토마토파스타는 토마토소스에 마늘\\n과 양파를 볶아 넣고 바질을 곁들여 상큼한 맛을 냅니다. 미트소스스파게티는 다\\n진 쇠고기를 토마토소스와 함께 오래 끓여 깊은 맛을 만듭니다.\\n일식에서는 돈카츠가 인기 있는 메뉴로, 돼지고기를 얇게 펴서 빵가루를 묻혀 바\\n삭하게 튀겨내고 특제 소스를 곁들입니다. 카레라이스는 당근, 감자, 양파를 카\\n레가루와 함께 끓여 걸쭉한 소스를 만들어 밥에 부어 먹습니다. 오야코동은 닭고\\n기와 달걀을 간장 베이스의 달달한 육수에 조려 밥 위에 올립니다.\\n중식으로는 마파두부가 있는데, 두부와 다진 고기를 매운 두반장 소스에 볶아 만\\n듭니다. 깐풍기는 닭고기를 튀겨서 매콤달콤한 소스를 絡めて만드는 요리이고, 탕\\n수육은 돼지고기를 튀겨서 새콤달콤한 소스를 부어 먹습니다.\\n태국 요리로는 팟타이가 유명한데, 쌀국수를 새우와 함께 볶고 땅콩가루를 뿌려\\n고소한 맛을 냅니다. 그린커리는 코코넛밀크와 향신료를 넣어 만든 커리에 닭고기\\n와 가지를 넣어 끓입니다. 톰얌쿵은 새우와 버섯을 레몬그라스, 카피르라임 등의\\n향신료와 함께 시큼매콤하게 끓이는 수프입니다.\\n베트남 요리에서는 쌀국수인 포가 대표적인데, 소고기 육수에 쌀국수와 고기를 넣\\n고 고수, 숙주나물을 곁들여 먹습니다. 반미는 바게트빵에 각종 채소와 고기를\\n넣어 만드는 샌드위치이며, 분짜는 구운 돼지고기와 쌀국수를 느억맘 소스에 찍어\\n먹는 요리입니다.\\n이탈리아 요리로 더 들어가보면, 리소토는 아르보리오 쌀을 화이트와인과 버터로\\n 볶다가 뜨거운 육수를 조금씩 부어가며 천천히 익혀 만듭니다. 라자냐는 파스타\\n면과 미트소스, 베샤멜 소스, 치즈를 층층이 쌓아 오븐에 구워내는 풍성한 요리\\n입니다. 피자는 밀가루 반죽을 얇게 펴서 토마토소스를 바르고 모차렐라 치즈와\\n각종 토핑을 올려 화덕에서 구워냅니다.\\n멕시코 요리에서는 타코가 대표적인데, 또르티야에 구운 고기와 양파, 고수, 라\\n임을 넣어 먹습니다. 엔칠라다는 또르티야에 고기와 치즈를 넣어 말아서 특제 소\\n스를 부어 오븐에 구워냅니다. 부리토는 큰 또르티야에 밥, 콩, 고기, 아보카도\\n등을 넣어 말아먹는 든든한 한 끼 식사입니다.\\n인도 요리로는 버터치킨이 있는데, 요거트로 마리네이드한 닭고기를 탄두르에 구\\n워 토마토와 버터가 들어간 크리미한 커리 소스에 조려냅니다. 팔락 파니르는 시\\n금치 커리에 인도식 치즈인 파니르를 넣어 만드는 채식 요리이고, 달 마크니는\\n렌틸콩을 버터와 크림으로 맛있게 조리한 요리입니다.\\n중동 요리에서는 샤워마가 유명한데, 양고기나 닭고기를 특제 향신료에 재워 수직\\n으로 구워 얇게 썰어 피타빵에 싸먹습니다. 팔라펠은 병아리콩으로 만든 완자를\\n튀겨서 피타빵에 채소와 함께 넣어 먹습니다. 후무스는 병아리콩을 갈아서 타히\\n니, 레몬즙, 올리브오일과 함께 섞어 만드는 디핑소스입니다.\\n한식으로 돌아와서, 갈비찜은 소갈비를 간장 베이스의 달달한 양념으로 푹 조려내\\n는 요리입니다. 닭갈비는 닭고기를 고추장 양념에 채소와 함께 볶아 치즈를 올려\\n먹는 요리이고, 족발은 돼지 앞다리를 향신료와 함께 오래 삶아 쫄깃하게 만듭니\\n다.\\n일식을 더 보면, 규동은 소고기를 달달한 간장 소스로 조려서 밥 위에 올리는 덮\\n밥입니다. 라멘은 진한 육수에 중국식 면을 넣고 차슈와 면발, 죽은 달걀을 올려\\n먹는 국수이고, 우동은 굵은 밀가루 면을 간장 베이스의 국물에 담아 먹습니다.\\n중식으로는 양장피가 있는데, 해파리와 각종 채소, 고기를 참기름 소스에 무치는\\n요리입니다. 어향육슬은 돼지고기를 채썰어 매콤새콤한 소스로 볶아내고, 팔보채\\n 는 해산물과 채소를 굴소스로 볶아내는 고급 요리입니다.\\n동남아 요리로, 나시고랭은 인도네시아식 볶음밥으로 새우페이스트로 맛을 내는\\n것이 특징입니다. 락사는 코코넛 커리 수프에 면을 넣어 먹는 싱가포르의 대표\\n요리이고, 할라이는 태국식 바비큐 치킨으로 코코넛밀크에 재워 구워냅니다.\\n서양요리로 더 들어가면, 비프 스트로가노프는 소고기를 버섯과 함께 사워크림 소\\n스에 조리하는 러시아 요리입니다. 코틀렛은 다진 고기를 둥글납작하게 빚어 튀겨\\n내는 동유럽식 돈까스이고, 비프 부르기뇽은 소고기를 레드와인으로 오래 끓여 만\\n드는 프랑스 요리입니다.\\n퓨전요리도 있는데, 김치 파스타는 김치를 다져서 파스타와 함께 볶아내는 한국식\\n퓨전 파스타입니다. 불고기 피자는 한국의 불고기를 피자 토핑으로 활용한 퓨전\\n요리이고, 타코라이스는 멕시코 타코의 속재료를 밥과 함께 먹는 일본식 퓨전요리\\n입니다.\\n프랑스 요리로 더 살펴보면, 코코뱅은 닭고기를 레드와인에 장시간 끓여 만드는\\n전통 요리입니다. 와인의 풍미가 닭고기에 깊이 배어들어 독특한 맛을 자아내며,\\n양파와 버섯, 베이컨을 함께 넣어 풍성한 맛을 더합니다. 라타투이는 가지, 토마\\n토, 호박, 파프리카 등 지중해 채소들을 올리브유로 천천히 익혀 만드는 프로방\\n스 지방의 대표적인 채식 요리입니다. 끼슈는 버터가 듬뿍 들어간 파이 반죽 위\\n에 달걀과 크림을 섞은 커스터드를 붓고 베이컨, 치즈, 채소를 넣어 구워내는 고\\n소한 요리입니다.\\n스페인 요리에서는 빠에야가 유명한데, 사프란으로 노란빛을 낸 쌀에 해산물과 토\\n마토, 완두콩을 넣고 특별한 빠에야 팬에서 구수하게 볶아냅니다. 가스파초는 토\\n마토와 오이, 피망을 갈아서 만드는 차가운 스프로, 더운 여름에 즐기기 좋은 상\\n큼한 요리입니다. 또한 감바스 알 아히요는 마늘과 올리브유에 새우를 볶아 만드\\n는 간단하지만 맛있는 타파스 요리입니다.\\n그리스 요리로는 무사카가 대표적입니다. 가지와 다진 고기를 층층이 쌓고 베샤멜\\n'}\n"
     ]
    },
    {
     "data": {
      "text/plain": [
       "[{'question': '한국, 이탈리아, 태국의 대표적인 요리들을 각각 하나씩 선택하여, 이 요리들의 주요 재료와 조리 방법의 유사점과 차이점을 비교 분석해보세요. 특히 각 요리의 문화적 특성이 어떻게 반영되어 있는지 설명해주세요.',\n",
       "  'ground_truth': '한국의 김치볶음밥, 이탈리아의 리소토, 태국의 팟타이를 비교해보겠습니다.\\n\\n1. 주요 재료:\\n- 김치볶음밥: 밥, 김치, 참기름\\n- 리소토: 아르보리오 쌀, 화이트와인, 버터, 육수\\n- 팟타이: 쌀국수, 새우, 땅콩가루\\n\\n2. 조리 방법:\\n유사점: 세 요리 모두 볶는 조리법을 사용합니다.\\n차이점: \\n- 김치볶음밥: 빠르게 고열로 볶아 만듭니다.\\n- 리소토: 천천히 육수를 넣어가며 졸이듯이 조리합니다.\\n- 팟타이: 중간 불에서 재료를 순서대로 넣어가며 볶습니다.\\n\\n3. 문화적 특성:\\n- 김치볶음밥: 한국의 발효 문화를 대표하는 김치를 활용하여 간편하게 만드는 요리로, 한국인의 실용적이고 빠른 식문화를 반영합니다.\\n- 리소토: 이탈리아의 여유로운 식문화를 반영하여 천천히 정성을 들여 만듭니다. 와인을 사용하는 것은 이탈리아의 와인 문화를 보여줍니다.\\n- 팟타이: 태국의 길거리 음식 문화를 대표하며, 다양한 재료와 맛(새콤, 달콤, 고소함)의 조화를 중시하는 태국 요리의 특징을 잘 보여줍니다.\\n\\n이처럼 세 요리는 모두 볶음 요리이지만, 각 나라의 고유한 식재료와 조리 방식, 그리고 식문화적 특성을 뚜렷하게 반영하고 있습니다.',\n",
       "  'question_type': 'complex',\n",
       "  'contexts': '볶음요리로는 먼저 김치볶음밥이 있는데, 잘 익은 김치를 잘게 썰어 밥과 함께\\n볶다가 마지막에 참기름을 둘러 고소한 향을 더합니다. 제육볶음은 돼지고기를 고\\n추장 양념에 버무려 매콤달콤하게 볶아내며, 양파와 당근 등 채소를 함께 넣어\\n영양을 높입니다. 낙지볶음은 신선한 낙지를 손질해 고추장 양념에 볶아 매콤하게\\n만드는 요리입니다.\\n양식으로는 크림파스타가 대표적인데, 생크림과 마늘, 양파를 볶아 소스를 만들고\\n베이컨이나 새우를 더해 고소하게 완성합니다. 토마토파스타는 토마토소스에 마늘\\n과 양파를 볶아 넣고 바질을 곁들여 상큼한 맛을 냅니다. 미트소스스파게티는 다\\n진 쇠고기를 토마토소스와 함께 오래 끓여 깊은 맛을 만듭니다.\\n일식에서는 돈카츠가 인기 있는 메뉴로, 돼지고기를 얇게 펴서 빵가루를 묻혀 바\\n삭하게 튀겨내고 특제 소스를 곁들입니다. 카레라이스는 당근, 감자, 양파를 카\\n레가루와 함께 끓여 걸쭉한 소스를 만들어 밥에 부어 먹습니다. 오야코동은 닭고\\n기와 달걀을 간장 베이스의 달달한 육수에 조려 밥 위에 올립니다.\\n중식으로는 마파두부가 있는데, 두부와 다진 고기를 매운 두반장 소스에 볶아 만\\n듭니다. 깐풍기는 닭고기를 튀겨서 매콤달콤한 소스를 絡めて만드는 요리이고, 탕\\n수육은 돼지고기를 튀겨서 새콤달콤한 소스를 부어 먹습니다.\\n태국 요리로는 팟타이가 유명한데, 쌀국수를 새우와 함께 볶고 땅콩가루를 뿌려\\n고소한 맛을 냅니다. 그린커리는 코코넛밀크와 향신료를 넣어 만든 커리에 닭고기\\n와 가지를 넣어 끓입니다. 톰얌쿵은 새우와 버섯을 레몬그라스, 카피르라임 등의\\n향신료와 함께 시큼매콤하게 끓이는 수프입니다.\\n베트남 요리에서는 쌀국수인 포가 대표적인데, 소고기 육수에 쌀국수와 고기를 넣\\n고 고수, 숙주나물을 곁들여 먹습니다. 반미는 바게트빵에 각종 채소와 고기를\\n넣어 만드는 샌드위치이며, 분짜는 구운 돼지고기와 쌀국수를 느억맘 소스에 찍어\\n먹는 요리입니다.\\n이탈리아 요리로 더 들어가보면, 리소토는 아르보리오 쌀을 화이트와인과 버터로\\n 볶다가 뜨거운 육수를 조금씩 부어가며 천천히 익혀 만듭니다. 라자냐는 파스타\\n면과 미트소스, 베샤멜 소스, 치즈를 층층이 쌓아 오븐에 구워내는 풍성한 요리\\n입니다. 피자는 밀가루 반죽을 얇게 펴서 토마토소스를 바르고 모차렐라 치즈와\\n각종 토핑을 올려 화덕에서 구워냅니다.\\n멕시코 요리에서는 타코가 대표적인데, 또르티야에 구운 고기와 양파, 고수, 라\\n임을 넣어 먹습니다. 엔칠라다는 또르티야에 고기와 치즈를 넣어 말아서 특제 소\\n스를 부어 오븐에 구워냅니다. 부리토는 큰 또르티야에 밥, 콩, 고기, 아보카도\\n등을 넣어 말아먹는 든든한 한 끼 식사입니다.\\n인도 요리로는 버터치킨이 있는데, 요거트로 마리네이드한 닭고기를 탄두르에 구\\n워 토마토와 버터가 들어간 크리미한 커리 소스에 조려냅니다. 팔락 파니르는 시\\n금치 커리에 인도식 치즈인 파니르를 넣어 만드는 채식 요리이고, 달 마크니는\\n렌틸콩을 버터와 크림으로 맛있게 조리한 요리입니다.\\n중동 요리에서는 샤워마가 유명한데, 양고기나 닭고기를 특제 향신료에 재워 수직\\n으로 구워 얇게 썰어 피타빵에 싸먹습니다. 팔라펠은 병아리콩으로 만든 완자를\\n튀겨서 피타빵에 채소와 함께 넣어 먹습니다. 후무스는 병아리콩을 갈아서 타히\\n니, 레몬즙, 올리브오일과 함께 섞어 만드는 디핑소스입니다.\\n한식으로 돌아와서, 갈비찜은 소갈비를 간장 베이스의 달달한 양념으로 푹 조려내\\n는 요리입니다. 닭갈비는 닭고기를 고추장 양념에 채소와 함께 볶아 치즈를 올려\\n먹는 요리이고, 족발은 돼지 앞다리를 향신료와 함께 오래 삶아 쫄깃하게 만듭니\\n다.\\n일식을 더 보면, 규동은 소고기를 달달한 간장 소스로 조려서 밥 위에 올리는 덮\\n밥입니다. 라멘은 진한 육수에 중국식 면을 넣고 차슈와 면발, 죽은 달걀을 올려\\n먹는 국수이고, 우동은 굵은 밀가루 면을 간장 베이스의 국물에 담아 먹습니다.\\n중식으로는 양장피가 있는데, 해파리와 각종 채소, 고기를 참기름 소스에 무치는\\n요리입니다. 어향육슬은 돼지고기를 채썰어 매콤새콤한 소스로 볶아내고, 팔보채\\n 는 해산물과 채소를 굴소스로 볶아내는 고급 요리입니다.\\n동남아 요리로, 나시고랭은 인도네시아식 볶음밥으로 새우페이스트로 맛을 내는\\n것이 특징입니다. 락사는 코코넛 커리 수프에 면을 넣어 먹는 싱가포르의 대표\\n요리이고, 할라이는 태국식 바비큐 치킨으로 코코넛밀크에 재워 구워냅니다.\\n서양요리로 더 들어가면, 비프 스트로가노프는 소고기를 버섯과 함께 사워크림 소\\n스에 조리하는 러시아 요리입니다. 코틀렛은 다진 고기를 둥글납작하게 빚어 튀겨\\n내는 동유럽식 돈까스이고, 비프 부르기뇽은 소고기를 레드와인으로 오래 끓여 만\\n드는 프랑스 요리입니다.\\n퓨전요리도 있는데, 김치 파스타는 김치를 다져서 파스타와 함께 볶아내는 한국식\\n퓨전 파스타입니다. 불고기 피자는 한국의 불고기를 피자 토핑으로 활용한 퓨전\\n요리이고, 타코라이스는 멕시코 타코의 속재료를 밥과 함께 먹는 일본식 퓨전요리\\n입니다.\\n프랑스 요리로 더 살펴보면, 코코뱅은 닭고기를 레드와인에 장시간 끓여 만드는\\n전통 요리입니다. 와인의 풍미가 닭고기에 깊이 배어들어 독특한 맛을 자아내며,\\n양파와 버섯, 베이컨을 함께 넣어 풍성한 맛을 더합니다. 라타투이는 가지, 토마\\n토, 호박, 파프리카 등 지중해 채소들을 올리브유로 천천히 익혀 만드는 프로방\\n스 지방의 대표적인 채식 요리입니다. 끼슈는 버터가 듬뿍 들어간 파이 반죽 위\\n에 달걀과 크림을 섞은 커스터드를 붓고 베이컨, 치즈, 채소를 넣어 구워내는 고\\n소한 요리입니다.\\n스페인 요리에서는 빠에야가 유명한데, 사프란으로 노란빛을 낸 쌀에 해산물과 토\\n마토, 완두콩을 넣고 특별한 빠에야 팬에서 구수하게 볶아냅니다. 가스파초는 토\\n마토와 오이, 피망을 갈아서 만드는 차가운 스프로, 더운 여름에 즐기기 좋은 상\\n큼한 요리입니다. 또한 감바스 알 아히요는 마늘과 올리브유에 새우를 볶아 만드\\n는 간단하지만 맛있는 타파스 요리입니다.\\n그리스 요리로는 무사카가 대표적입니다. 가지와 다진 고기를 층층이 쌓고 베샤멜\\n'},\n",
       " {'question': '타진은 어떤 나라의 요리이며 어떻게 만드나요?',\n",
       "  'ground_truth': '타진은 모로코 요리입니다. 원뿔 모양의 뚜껑이 있는 특별한 그릇에서 양고기나 닭고기를 채소, 건과일, 올리브와 함께 향신료를 넣어 천천히 조리합니다.',\n",
       "  'question_type': 'simple',\n",
       "  'contexts': '볶다가 뜨거운 육수를 조금씩 부어가며 천천히 익혀 만듭니다. 라자냐는 파스타\\n면과 미트소스, 베샤멜 소스, 치즈를 층층이 쌓아 오븐에 구워내는 풍성한 요리\\n입니다. 피자는 밀가루 반죽을 얇게 펴서 토마토소스를 바르고 모차렐라 치즈와\\n각종 토핑을 올려 화덕에서 구워냅니다.\\n멕시코 요리에서는 타코가 대표적인데, 또르티야에 구운 고기와 양파, 고수, 라\\n임을 넣어 먹습니다. 엔칠라다는 또르티야에 고기와 치즈를 넣어 말아서 특제 소\\n스를 부어 오븐에 구워냅니다. 부리토는 큰 또르티야에 밥, 콩, 고기, 아보카도\\n등을 넣어 말아먹는 든든한 한 끼 식사입니다.\\n인도 요리로는 버터치킨이 있는데, 요거트로 마리네이드한 닭고기를 탄두르에 구\\n워 토마토와 버터가 들어간 크리미한 커리 소스에 조려냅니다. 팔락 파니르는 시\\n금치 커리에 인도식 치즈인 파니르를 넣어 만드는 채식 요리이고, 달 마크니는\\n렌틸콩을 버터와 크림으로 맛있게 조리한 요리입니다.\\n중동 요리에서는 샤워마가 유명한데, 양고기나 닭고기를 특제 향신료에 재워 수직\\n으로 구워 얇게 썰어 피타빵에 싸먹습니다. 팔라펠은 병아리콩으로 만든 완자를\\n튀겨서 피타빵에 채소와 함께 넣어 먹습니다. 후무스는 병아리콩을 갈아서 타히\\n니, 레몬즙, 올리브오일과 함께 섞어 만드는 디핑소스입니다.\\n한식으로 돌아와서, 갈비찜은 소갈비를 간장 베이스의 달달한 양념으로 푹 조려내\\n는 요리입니다. 닭갈비는 닭고기를 고추장 양념에 채소와 함께 볶아 치즈를 올려\\n먹는 요리이고, 족발은 돼지 앞다리를 향신료와 함께 오래 삶아 쫄깃하게 만듭니\\n다.\\n일식을 더 보면, 규동은 소고기를 달달한 간장 소스로 조려서 밥 위에 올리는 덮\\n밥입니다. 라멘은 진한 육수에 중국식 면을 넣고 차슈와 면발, 죽은 달걀을 올려\\n먹는 국수이고, 우동은 굵은 밀가루 면을 간장 베이스의 국물에 담아 먹습니다.\\n중식으로는 양장피가 있는데, 해파리와 각종 채소, 고기를 참기름 소스에 무치는\\n요리입니다. 어향육슬은 돼지고기를 채썰어 매콤새콤한 소스로 볶아내고, 팔보채\\n 는 해산물과 채소를 굴소스로 볶아내는 고급 요리입니다.\\n동남아 요리로, 나시고랭은 인도네시아식 볶음밥으로 새우페이스트로 맛을 내는\\n것이 특징입니다. 락사는 코코넛 커리 수프에 면을 넣어 먹는 싱가포르의 대표\\n요리이고, 할라이는 태국식 바비큐 치킨으로 코코넛밀크에 재워 구워냅니다.\\n서양요리로 더 들어가면, 비프 스트로가노프는 소고기를 버섯과 함께 사워크림 소\\n스에 조리하는 러시아 요리입니다. 코틀렛은 다진 고기를 둥글납작하게 빚어 튀겨\\n내는 동유럽식 돈까스이고, 비프 부르기뇽은 소고기를 레드와인으로 오래 끓여 만\\n드는 프랑스 요리입니다.\\n퓨전요리도 있는데, 김치 파스타는 김치를 다져서 파스타와 함께 볶아내는 한국식\\n퓨전 파스타입니다. 불고기 피자는 한국의 불고기를 피자 토핑으로 활용한 퓨전\\n요리이고, 타코라이스는 멕시코 타코의 속재료를 밥과 함께 먹는 일본식 퓨전요리\\n입니다.\\n프랑스 요리로 더 살펴보면, 코코뱅은 닭고기를 레드와인에 장시간 끓여 만드는\\n전통 요리입니다. 와인의 풍미가 닭고기에 깊이 배어들어 독특한 맛을 자아내며,\\n양파와 버섯, 베이컨을 함께 넣어 풍성한 맛을 더합니다. 라타투이는 가지, 토마\\n토, 호박, 파프리카 등 지중해 채소들을 올리브유로 천천히 익혀 만드는 프로방\\n스 지방의 대표적인 채식 요리입니다. 끼슈는 버터가 듬뿍 들어간 파이 반죽 위\\n에 달걀과 크림을 섞은 커스터드를 붓고 베이컨, 치즈, 채소를 넣어 구워내는 고\\n소한 요리입니다.\\n스페인 요리에서는 빠에야가 유명한데, 사프란으로 노란빛을 낸 쌀에 해산물과 토\\n마토, 완두콩을 넣고 특별한 빠에야 팬에서 구수하게 볶아냅니다. 가스파초는 토\\n마토와 오이, 피망을 갈아서 만드는 차가운 스프로, 더운 여름에 즐기기 좋은 상\\n큼한 요리입니다. 또한 감바스 알 아히요는 마늘과 올리브유에 새우를 볶아 만드\\n는 간단하지만 맛있는 타파스 요리입니다.\\n그리스 요리로는 무사카가 대표적입니다. 가지와 다진 고기를 층층이 쌓고 베샤멜\\n 소스를 부어 오븐에 구워내는데, 마치 그리스 버전의 라자냐와 같습니다. 수블라\\n키는 돼지고기를 레몬과 허브로 마리네이드해서 꼬치에 꿰어 구운 다음 피타빵에\\n싸서 먹는 길거리 음식입니다. 돌마데스는 포도잎으로 밥과 다진 고기를 싸서 찐\\n다음 레몬소스를 곁들이는 전통 요리입니다.\\n그리스 요리로는 무사카가 대표적입니다. 가지와 다진 고기를 층층이 쌓고 베샤멜\\n소스를 부어 오븐에 구워내는데, 마치 그리스 버전의 라자냐와 같습니다. 수블라\\n키는 돼지고기를 레몬과 허브로 마리네이드해서 꼬치에 꿰어 구운 다음 피타빵에\\n싸서 먹는 길거리 음식입니다. 돌마데스는 포도잎으로 밥과 다진 고기를 싸서 찐\\n다음 레몬소스를 곁들이는 전통 요리입니다.\\n모로코 요리에서는 타진이 유명합니다. 원뿔 모양의 뚜껑이 있는 특별한 그릇에서\\n양고기나 닭고기를 채소, 건과일, 올리브와 함께 향신료를 넣어 천천히 조리합니\\n다. 쿠스쿠스는 잘게 빻은 밀가루로 만든 알갱이에 채소와 고기를 얹어 먹는 북\\n아프리카의 주식입니다. 파스티야는 달콤하면서도 짭짤한 맛이 나는 파이로, 비둘\\n기고기나 닭고기를 넣고 계피와 설탕을 뿌려 만듭니다.\\n독일 요리로는 슈니첼이 대표적인데, 송아지고기를 얇게 펴서 빵가루를 묻혀 튀긴\\n다음 레몬을 곁들여 먹습니다. 아이스바인은 돼지 정강이를 삶아서 만드는 요리\\n로, 독일식 김치인 자우어크라우트를 곁들입니다. 카세슈팟첸은 치즈를 듬뿍 넣은\\n수제 스파츨레 면에 구운 양파를 올려 만드는 소울푸드입니다.\\n러시아 요리에서 보르시는 비트를 넣어 선명한 붉은색을 내는 수프로, 양배추와\\n감자, 당근 등 다양한 채소와 고기를 넣어 푹 끓입니다. 피로시키는 밀가루 반죽\\n으로 만든 주머니에 고기나 감자, 양배추 등을 넣어 튀기거나 구워 만듭니다. 올\\n리비에 샐러드는 삶은 감자, 당근, 완두콩, 달걀, 닭고기를 마요네즈로 버무린\\n러시아식 감자 샐러드입니다.'},\n",
       " {'question': '한국, 이탈리아, 태국의 요리를 각각 하나씩 선택하여, 이 요리들의 공통점과 차이점을 조리 방법과 주요 재료를 중심으로 비교 분석해보세요.',\n",
       "  'ground_truth': '한국의 김치볶음밥, 이탈리아의 리소토, 태국의 팟타이를 비교해보겠습니다.\\n\\n공통점:\\n1. 모두 쌀을 주재료로 사용합니다. 김치볶음밥과 리소토는 일반 쌀을, 팟타이는 쌀국수를 사용합니다.\\n2. 세 요리 모두 볶는 조리법을 사용합니다.\\n3. 각 요리에 특색 있는 향신료나 조미료를 사용하여 고유의 풍미를 냅니다.\\n\\n차이점:\\n1. 조리 방법:\\n   - 김치볶음밥: 김치와 밥을 함께 빠르게 볶아 조리합니다.\\n   - 리소토: 쌀을 천천히 볶으면서 육수를 조금씩 부어가며 오랜 시간 조리합니다.\\n   - 팟타이: 쌀국수를 볶되, 다른 재료들과 함께 빠르게 조리합니다.\\n\\n2. 주요 재료:\\n   - 김치볶음밥: 김치가 핵심 재료이며, 마지막에 참기름을 사용합니다.\\n   - 리소토: 아르보리오 쌀, 화이트와인, 버터가 특징적인 재료입니다.\\n   - 팟타이: 쌀국수, 새우, 땅콩가루가 주요 재료입니다.\\n\\n3. 맛과 향:\\n   - 김치볶음밥: 김치의 매콤새콤한 맛과 참기름의 고소한 향이 특징입니다.\\n   - 리소토: 버터와 치즈의 고소함, 와인의 풍미가 어우러진 크리미한 맛이 특징입니다.\\n   - 팟타이: 새우의 감칠맛, 땅콩의 고소함, 타마린드 소스의 새콤달콤한 맛이 조화를 이룹니다.\\n\\n이처럼 세 요리는 쌀을 주재료로 사용하고 볶는 조리법을 공유하지만, 각 나라의 고유한 식재료와 조리 기법을 통해 독특한 맛과 특징을 가지고 있습니다.',\n",
       "  'question_type': 'complex',\n",
       "  'contexts': '볶음요리로는 먼저 김치볶음밥이 있는데, 잘 익은 김치를 잘게 썰어 밥과 함께\\n볶다가 마지막에 참기름을 둘러 고소한 향을 더합니다. 제육볶음은 돼지고기를 고\\n추장 양념에 버무려 매콤달콤하게 볶아내며, 양파와 당근 등 채소를 함께 넣어\\n영양을 높입니다. 낙지볶음은 신선한 낙지를 손질해 고추장 양념에 볶아 매콤하게\\n만드는 요리입니다.\\n양식으로는 크림파스타가 대표적인데, 생크림과 마늘, 양파를 볶아 소스를 만들고\\n베이컨이나 새우를 더해 고소하게 완성합니다. 토마토파스타는 토마토소스에 마늘\\n과 양파를 볶아 넣고 바질을 곁들여 상큼한 맛을 냅니다. 미트소스스파게티는 다\\n진 쇠고기를 토마토소스와 함께 오래 끓여 깊은 맛을 만듭니다.\\n일식에서는 돈카츠가 인기 있는 메뉴로, 돼지고기를 얇게 펴서 빵가루를 묻혀 바\\n삭하게 튀겨내고 특제 소스를 곁들입니다. 카레라이스는 당근, 감자, 양파를 카\\n레가루와 함께 끓여 걸쭉한 소스를 만들어 밥에 부어 먹습니다. 오야코동은 닭고\\n기와 달걀을 간장 베이스의 달달한 육수에 조려 밥 위에 올립니다.\\n중식으로는 마파두부가 있는데, 두부와 다진 고기를 매운 두반장 소스에 볶아 만\\n듭니다. 깐풍기는 닭고기를 튀겨서 매콤달콤한 소스를 絡めて만드는 요리이고, 탕\\n수육은 돼지고기를 튀겨서 새콤달콤한 소스를 부어 먹습니다.\\n태국 요리로는 팟타이가 유명한데, 쌀국수를 새우와 함께 볶고 땅콩가루를 뿌려\\n고소한 맛을 냅니다. 그린커리는 코코넛밀크와 향신료를 넣어 만든 커리에 닭고기\\n와 가지를 넣어 끓입니다. 톰얌쿵은 새우와 버섯을 레몬그라스, 카피르라임 등의\\n향신료와 함께 시큼매콤하게 끓이는 수프입니다.\\n베트남 요리에서는 쌀국수인 포가 대표적인데, 소고기 육수에 쌀국수와 고기를 넣\\n고 고수, 숙주나물을 곁들여 먹습니다. 반미는 바게트빵에 각종 채소와 고기를\\n넣어 만드는 샌드위치이며, 분짜는 구운 돼지고기와 쌀국수를 느억맘 소스에 찍어\\n먹는 요리입니다.\\n이탈리아 요리로 더 들어가보면, 리소토는 아르보리오 쌀을 화이트와인과 버터로\\n 볶다가 뜨거운 육수를 조금씩 부어가며 천천히 익혀 만듭니다. 라자냐는 파스타\\n면과 미트소스, 베샤멜 소스, 치즈를 층층이 쌓아 오븐에 구워내는 풍성한 요리\\n입니다. 피자는 밀가루 반죽을 얇게 펴서 토마토소스를 바르고 모차렐라 치즈와\\n각종 토핑을 올려 화덕에서 구워냅니다.\\n멕시코 요리에서는 타코가 대표적인데, 또르티야에 구운 고기와 양파, 고수, 라\\n임을 넣어 먹습니다. 엔칠라다는 또르티야에 고기와 치즈를 넣어 말아서 특제 소\\n스를 부어 오븐에 구워냅니다. 부리토는 큰 또르티야에 밥, 콩, 고기, 아보카도\\n등을 넣어 말아먹는 든든한 한 끼 식사입니다.\\n인도 요리로는 버터치킨이 있는데, 요거트로 마리네이드한 닭고기를 탄두르에 구\\n워 토마토와 버터가 들어간 크리미한 커리 소스에 조려냅니다. 팔락 파니르는 시\\n금치 커리에 인도식 치즈인 파니르를 넣어 만드는 채식 요리이고, 달 마크니는\\n렌틸콩을 버터와 크림으로 맛있게 조리한 요리입니다.\\n중동 요리에서는 샤워마가 유명한데, 양고기나 닭고기를 특제 향신료에 재워 수직\\n으로 구워 얇게 썰어 피타빵에 싸먹습니다. 팔라펠은 병아리콩으로 만든 완자를\\n튀겨서 피타빵에 채소와 함께 넣어 먹습니다. 후무스는 병아리콩을 갈아서 타히\\n니, 레몬즙, 올리브오일과 함께 섞어 만드는 디핑소스입니다.\\n한식으로 돌아와서, 갈비찜은 소갈비를 간장 베이스의 달달한 양념으로 푹 조려내\\n는 요리입니다. 닭갈비는 닭고기를 고추장 양념에 채소와 함께 볶아 치즈를 올려\\n먹는 요리이고, 족발은 돼지 앞다리를 향신료와 함께 오래 삶아 쫄깃하게 만듭니\\n다.\\n일식을 더 보면, 규동은 소고기를 달달한 간장 소스로 조려서 밥 위에 올리는 덮\\n밥입니다. 라멘은 진한 육수에 중국식 면을 넣고 차슈와 면발, 죽은 달걀을 올려\\n먹는 국수이고, 우동은 굵은 밀가루 면을 간장 베이스의 국물에 담아 먹습니다.\\n중식으로는 양장피가 있는데, 해파리와 각종 채소, 고기를 참기름 소스에 무치는\\n요리입니다. 어향육슬은 돼지고기를 채썰어 매콤새콤한 소스로 볶아내고, 팔보채\\n 는 해산물과 채소를 굴소스로 볶아내는 고급 요리입니다.\\n동남아 요리로, 나시고랭은 인도네시아식 볶음밥으로 새우페이스트로 맛을 내는\\n것이 특징입니다. 락사는 코코넛 커리 수프에 면을 넣어 먹는 싱가포르의 대표\\n요리이고, 할라이는 태국식 바비큐 치킨으로 코코넛밀크에 재워 구워냅니다.\\n서양요리로 더 들어가면, 비프 스트로가노프는 소고기를 버섯과 함께 사워크림 소\\n스에 조리하는 러시아 요리입니다. 코틀렛은 다진 고기를 둥글납작하게 빚어 튀겨\\n내는 동유럽식 돈까스이고, 비프 부르기뇽은 소고기를 레드와인으로 오래 끓여 만\\n드는 프랑스 요리입니다.\\n퓨전요리도 있는데, 김치 파스타는 김치를 다져서 파스타와 함께 볶아내는 한국식\\n퓨전 파스타입니다. 불고기 피자는 한국의 불고기를 피자 토핑으로 활용한 퓨전\\n요리이고, 타코라이스는 멕시코 타코의 속재료를 밥과 함께 먹는 일본식 퓨전요리\\n입니다.\\n프랑스 요리로 더 살펴보면, 코코뱅은 닭고기를 레드와인에 장시간 끓여 만드는\\n전통 요리입니다. 와인의 풍미가 닭고기에 깊이 배어들어 독특한 맛을 자아내며,\\n양파와 버섯, 베이컨을 함께 넣어 풍성한 맛을 더합니다. 라타투이는 가지, 토마\\n토, 호박, 파프리카 등 지중해 채소들을 올리브유로 천천히 익혀 만드는 프로방\\n스 지방의 대표적인 채식 요리입니다. 끼슈는 버터가 듬뿍 들어간 파이 반죽 위\\n에 달걀과 크림을 섞은 커스터드를 붓고 베이컨, 치즈, 채소를 넣어 구워내는 고\\n소한 요리입니다.\\n스페인 요리에서는 빠에야가 유명한데, 사프란으로 노란빛을 낸 쌀에 해산물과 토\\n마토, 완두콩을 넣고 특별한 빠에야 팬에서 구수하게 볶아냅니다. 가스파초는 토\\n마토와 오이, 피망을 갈아서 만드는 차가운 스프로, 더운 여름에 즐기기 좋은 상\\n큼한 요리입니다. 또한 감바스 알 아히요는 마늘과 올리브유에 새우를 볶아 만드\\n는 간단하지만 맛있는 타파스 요리입니다.\\n그리스 요리로는 무사카가 대표적입니다. 가지와 다진 고기를 층층이 쌓고 베샤멜\\n'}]"
      ]
     },
     "execution_count": 30,
     "metadata": {},
     "output_type": "execute_result"
    }
   ],
   "source": [
    "generate_qa_dataset(chunks_with_metadata, 3)"
   ]
  },
  {
   "cell_type": "code",
   "execution_count": null,
   "metadata": {},
   "outputs": [],
   "source": []
  }
 ],
 "metadata": {
  "kernelspec": {
   "display_name": "Python 3",
   "language": "python",
   "name": "python3"
  },
  "language_info": {
   "codemirror_mode": {
    "name": "ipython",
    "version": 3
   },
   "file_extension": ".py",
   "mimetype": "text/x-python",
   "name": "python",
   "nbconvert_exporter": "python",
   "pygments_lexer": "ipython3",
   "version": "3.10.14"
  }
 },
 "nbformat": 4,
 "nbformat_minor": 2
}
