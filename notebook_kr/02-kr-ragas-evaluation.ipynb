{
 "cells": [
  {
   "cell_type": "markdown",
   "metadata": {},
   "source": [
    "## Loading Generated Synthetic Datasets\n",
    "\n",
    "In this section, we load synthetic datasets that have been generated for testing purposes. "
   ]
  },
  {
   "cell_type": "code",
   "execution_count": 6,
   "metadata": {},
   "outputs": [
    {
     "name": "stdout",
     "output_type": "stream",
     "text": [
      "The autoreload extension is already loaded. To reload it, use:\n",
      "  %reload_ext autoreload\n",
      "python path: /home/sagemaker-user/rag-evaluation-bedrock already exists\n",
      "sys.path:  ['/home/sagemaker-user/rag-evaluation-bedrock/notebook_kr', '/opt/conda/lib/python310.zip', '/opt/conda/lib/python3.10', '/opt/conda/lib/python3.10/lib-dynload', '', '/opt/conda/lib/python3.10/site-packages', '/home/sagemaker-user/rag-evaluation-bedrock']\n"
     ]
    }
   ],
   "source": [
    "%load_ext autoreload\n",
    "%autoreload 2\n",
    "\n",
    "import sys, os\n",
    "\n",
    "def add_python_path(module_path):\n",
    "    if os.path.abspath(module_path) not in sys.path:\n",
    "        sys.path.append(os.path.abspath(module_path))\n",
    "        print(f\"python path: {os.path.abspath(module_path)} is added\")\n",
    "    else:\n",
    "        print(f\"python path: {os.path.abspath(module_path)} already exists\")\n",
    "    print(\"sys.path: \", sys.path)\n",
    "\n",
    "module_path = \"..\"\n",
    "add_python_path(module_path)"
   ]
  },
  {
   "cell_type": "code",
   "execution_count": 43,
   "metadata": {},
   "outputs": [],
   "source": [
    "# import re\n",
    "\n",
    "# def clean_string(s):\n",
    "#     s = re.sub(r'[^\\x00-\\x7F]+', '', s)\n",
    "#     s = s.replace(\"'\", '\"')\n",
    "#     return s\n",
    "    \n",
    "# def print_formatted_text(text):\n",
    "#     # text를 줄바꿈 문자를 기준으로 분리하여 각 줄을 출력\n",
    "#     lines = text.split('\\n')\n",
    "    \n",
    "#     for line in lines:\n",
    "#         # 빈 줄은 그대로 출력하고, 내용이 있는 줄은 양쪽 공백을 제거하여 출력\n",
    "#         if line.strip():\n",
    "#             print(line.strip())\n",
    "#         else:\n",
    "#             print()\n"
   ]
  },
  {
   "cell_type": "code",
   "execution_count": 44,
   "metadata": {},
   "outputs": [
    {
     "data": {
      "text/html": [
       "<div>\n",
       "<style scoped>\n",
       "    .dataframe tbody tr th:only-of-type {\n",
       "        vertical-align: middle;\n",
       "    }\n",
       "\n",
       "    .dataframe tbody tr th {\n",
       "        vertical-align: top;\n",
       "    }\n",
       "\n",
       "    .dataframe thead th {\n",
       "        text-align: right;\n",
       "    }\n",
       "</style>\n",
       "<table border=\"1\" class=\"dataframe\">\n",
       "  <thead>\n",
       "    <tr style=\"text-align: right;\">\n",
       "      <th></th>\n",
       "      <th>question</th>\n",
       "      <th>ground_truth</th>\n",
       "      <th>question_type</th>\n",
       "      <th>contexts</th>\n",
       "    </tr>\n",
       "  </thead>\n",
       "  <tbody>\n",
       "    <tr>\n",
       "      <th>0</th>\n",
       "      <td>한국, 이탈리아, 태국의 대표적인 요리들을 각각 하나씩 선택하여, 이 요리들의 주요...</td>\n",
       "      <td>한국의 김치볶음밥, 이탈리아의 리소토, 태국의 팟타이를 비교해보겠습니다.\\n\\n1....</td>\n",
       "      <td>complex</td>\n",
       "      <td>볶음요리로는 먼저 김치볶음밥이 있는데, 잘 익은 김치를 잘게 썰어 밥과 함께\\n볶다...</td>\n",
       "    </tr>\n",
       "    <tr>\n",
       "      <th>1</th>\n",
       "      <td>타진은 어떤 나라의 요리이며 어떻게 만드나요?</td>\n",
       "      <td>타진은 모로코 요리입니다. 원뿔 모양의 뚜껑이 있는 특별한 그릇에서 양고기나 닭고기...</td>\n",
       "      <td>simple</td>\n",
       "      <td>볶다가 뜨거운 육수를 조금씩 부어가며 천천히 익혀 만듭니다. 라자냐는 파스타\\n면과...</td>\n",
       "    </tr>\n",
       "    <tr>\n",
       "      <th>2</th>\n",
       "      <td>한국, 이탈리아, 태국의 요리를 각각 하나씩 선택하여, 이 요리들의 공통점과 차이점...</td>\n",
       "      <td>한국의 김치볶음밥, 이탈리아의 리소토, 태국의 팟타이를 비교해보겠습니다.\\n\\n공통...</td>\n",
       "      <td>complex</td>\n",
       "      <td>볶음요리로는 먼저 김치볶음밥이 있는데, 잘 익은 김치를 잘게 썰어 밥과 함께\\n볶다...</td>\n",
       "    </tr>\n",
       "  </tbody>\n",
       "</table>\n",
       "</div>"
      ],
      "text/plain": [
       "                                            question  \\\n",
       "0  한국, 이탈리아, 태국의 대표적인 요리들을 각각 하나씩 선택하여, 이 요리들의 주요...   \n",
       "1                          타진은 어떤 나라의 요리이며 어떻게 만드나요?   \n",
       "2  한국, 이탈리아, 태국의 요리를 각각 하나씩 선택하여, 이 요리들의 공통점과 차이점...   \n",
       "\n",
       "                                        ground_truth question_type  \\\n",
       "0  한국의 김치볶음밥, 이탈리아의 리소토, 태국의 팟타이를 비교해보겠습니다.\\n\\n1....       complex   \n",
       "1  타진은 모로코 요리입니다. 원뿔 모양의 뚜껑이 있는 특별한 그릇에서 양고기나 닭고기...        simple   \n",
       "2  한국의 김치볶음밥, 이탈리아의 리소토, 태국의 팟타이를 비교해보겠습니다.\\n\\n공통...       complex   \n",
       "\n",
       "                                            contexts  \n",
       "0  볶음요리로는 먼저 김치볶음밥이 있는데, 잘 익은 김치를 잘게 썰어 밥과 함께\\n볶다...  \n",
       "1  볶다가 뜨거운 육수를 조금씩 부어가며 천천히 익혀 만듭니다. 라자냐는 파스타\\n면과...  \n",
       "2  볶음요리로는 먼저 김치볶음밥이 있는데, 잘 익은 김치를 잘게 썰어 밥과 함께\\n볶다...  "
      ]
     },
     "execution_count": 44,
     "metadata": {},
     "output_type": "execute_result"
    }
   ],
   "source": [
    "import pandas as pd\n",
    "\n",
    "df = pd.read_json(\"../data/sample_qa_dataset.jsonl\", lines=True)\n",
    "df.head()"
   ]
  },
  {
   "cell_type": "code",
   "execution_count": 45,
   "metadata": {},
   "outputs": [
    {
     "data": {
      "text/plain": [
       "'볶음요리로는 먼저 김치볶음밥이 있는데, 잘 익은 김치를 잘게 썰어 밥과 함께\\n볶다가 마지막에 참기름을 둘러 고소한 향을 더합니다. 제육볶음은 돼지고기를 고\\n추장 양념에 버무려 매콤달콤하게 볶아내며, 양파와 당근 등 채소를 함께 넣어\\n영양을 높입니다. 낙지볶음은 신선한 낙지를 손질해 고추장 양념에 볶아 매콤하게\\n만드는 요리입니다.\\n양식으로는 크림파스타가 대표적인데, 생크림과 마늘, 양파를 볶아 소스를 만들고\\n베이컨이나 새우를 더해 고소하게 완성합니다. 토마토파스타는 토마토소스에 마늘\\n과 양파를 볶아 넣고 바질을 곁들여 상큼한 맛을 냅니다. 미트소스스파게티는 다\\n진 쇠고기를 토마토소스와 함께 오래 끓여 깊은 맛을 만듭니다.\\n일식에서는 돈카츠가 인기 있는 메뉴로, 돼지고기를 얇게 펴서 빵가루를 묻혀 바\\n삭하게 튀겨내고 특제 소스를 곁들입니다. 카레라이스는 당근, 감자, 양파를 카\\n레가루와 함께 끓여 걸쭉한 소스를 만들어 밥에 부어 먹습니다. 오야코동은 닭고\\n기와 달걀을 간장 베이스의 달달한 육수에 조려 밥 위에 올립니다.\\n중식으로는 마파두부가 있는데, 두부와 다진 고기를 매운 두반장 소스에 볶아 만\\n듭니다. 깐풍기는 닭고기를 튀겨서 매콤달콤한 소스를 絡めて만드는 요리이고, 탕\\n수육은 돼지고기를 튀겨서 새콤달콤한 소스를 부어 먹습니다.\\n태국 요리로는 팟타이가 유명한데, 쌀국수를 새우와 함께 볶고 땅콩가루를 뿌려\\n고소한 맛을 냅니다. 그린커리는 코코넛밀크와 향신료를 넣어 만든 커리에 닭고기\\n와 가지를 넣어 끓입니다. 톰얌쿵은 새우와 버섯을 레몬그라스, 카피르라임 등의\\n향신료와 함께 시큼매콤하게 끓이는 수프입니다.\\n베트남 요리에서는 쌀국수인 포가 대표적인데, 소고기 육수에 쌀국수와 고기를 넣\\n고 고수, 숙주나물을 곁들여 먹습니다. 반미는 바게트빵에 각종 채소와 고기를\\n넣어 만드는 샌드위치이며, 분짜는 구운 돼지고기와 쌀국수를 느억맘 소스에 찍어\\n먹는 요리입니다.\\n이탈리아 요리로 더 들어가보면, 리소토는 아르보리오 쌀을 화이트와인과 버터로\\n 볶다가 뜨거운 육수를 조금씩 부어가며 천천히 익혀 만듭니다. 라자냐는 파스타\\n면과 미트소스, 베샤멜 소스, 치즈를 층층이 쌓아 오븐에 구워내는 풍성한 요리\\n입니다. 피자는 밀가루 반죽을 얇게 펴서 토마토소스를 바르고 모차렐라 치즈와\\n각종 토핑을 올려 화덕에서 구워냅니다.\\n멕시코 요리에서는 타코가 대표적인데, 또르티야에 구운 고기와 양파, 고수, 라\\n임을 넣어 먹습니다. 엔칠라다는 또르티야에 고기와 치즈를 넣어 말아서 특제 소\\n스를 부어 오븐에 구워냅니다. 부리토는 큰 또르티야에 밥, 콩, 고기, 아보카도\\n등을 넣어 말아먹는 든든한 한 끼 식사입니다.\\n인도 요리로는 버터치킨이 있는데, 요거트로 마리네이드한 닭고기를 탄두르에 구\\n워 토마토와 버터가 들어간 크리미한 커리 소스에 조려냅니다. 팔락 파니르는 시\\n금치 커리에 인도식 치즈인 파니르를 넣어 만드는 채식 요리이고, 달 마크니는\\n렌틸콩을 버터와 크림으로 맛있게 조리한 요리입니다.\\n중동 요리에서는 샤워마가 유명한데, 양고기나 닭고기를 특제 향신료에 재워 수직\\n으로 구워 얇게 썰어 피타빵에 싸먹습니다. 팔라펠은 병아리콩으로 만든 완자를\\n튀겨서 피타빵에 채소와 함께 넣어 먹습니다. 후무스는 병아리콩을 갈아서 타히\\n니, 레몬즙, 올리브오일과 함께 섞어 만드는 디핑소스입니다.\\n한식으로 돌아와서, 갈비찜은 소갈비를 간장 베이스의 달달한 양념으로 푹 조려내\\n는 요리입니다. 닭갈비는 닭고기를 고추장 양념에 채소와 함께 볶아 치즈를 올려\\n먹는 요리이고, 족발은 돼지 앞다리를 향신료와 함께 오래 삶아 쫄깃하게 만듭니\\n다.\\n일식을 더 보면, 규동은 소고기를 달달한 간장 소스로 조려서 밥 위에 올리는 덮\\n밥입니다. 라멘은 진한 육수에 중국식 면을 넣고 차슈와 면발, 죽은 달걀을 올려\\n먹는 국수이고, 우동은 굵은 밀가루 면을 간장 베이스의 국물에 담아 먹습니다.\\n중식으로는 양장피가 있는데, 해파리와 각종 채소, 고기를 참기름 소스에 무치는\\n요리입니다. 어향육슬은 돼지고기를 채썰어 매콤새콤한 소스로 볶아내고, 팔보채\\n 는 해산물과 채소를 굴소스로 볶아내는 고급 요리입니다.\\n동남아 요리로, 나시고랭은 인도네시아식 볶음밥으로 새우페이스트로 맛을 내는\\n것이 특징입니다. 락사는 코코넛 커리 수프에 면을 넣어 먹는 싱가포르의 대표\\n요리이고, 할라이는 태국식 바비큐 치킨으로 코코넛밀크에 재워 구워냅니다.\\n서양요리로 더 들어가면, 비프 스트로가노프는 소고기를 버섯과 함께 사워크림 소\\n스에 조리하는 러시아 요리입니다. 코틀렛은 다진 고기를 둥글납작하게 빚어 튀겨\\n내는 동유럽식 돈까스이고, 비프 부르기뇽은 소고기를 레드와인으로 오래 끓여 만\\n드는 프랑스 요리입니다.\\n퓨전요리도 있는데, 김치 파스타는 김치를 다져서 파스타와 함께 볶아내는 한국식\\n퓨전 파스타입니다. 불고기 피자는 한국의 불고기를 피자 토핑으로 활용한 퓨전\\n요리이고, 타코라이스는 멕시코 타코의 속재료를 밥과 함께 먹는 일본식 퓨전요리\\n입니다.\\n프랑스 요리로 더 살펴보면, 코코뱅은 닭고기를 레드와인에 장시간 끓여 만드는\\n전통 요리입니다. 와인의 풍미가 닭고기에 깊이 배어들어 독특한 맛을 자아내며,\\n양파와 버섯, 베이컨을 함께 넣어 풍성한 맛을 더합니다. 라타투이는 가지, 토마\\n토, 호박, 파프리카 등 지중해 채소들을 올리브유로 천천히 익혀 만드는 프로방\\n스 지방의 대표적인 채식 요리입니다. 끼슈는 버터가 듬뿍 들어간 파이 반죽 위\\n에 달걀과 크림을 섞은 커스터드를 붓고 베이컨, 치즈, 채소를 넣어 구워내는 고\\n소한 요리입니다.\\n스페인 요리에서는 빠에야가 유명한데, 사프란으로 노란빛을 낸 쌀에 해산물과 토\\n마토, 완두콩을 넣고 특별한 빠에야 팬에서 구수하게 볶아냅니다. 가스파초는 토\\n마토와 오이, 피망을 갈아서 만드는 차가운 스프로, 더운 여름에 즐기기 좋은 상\\n큼한 요리입니다. 또한 감바스 알 아히요는 마늘과 올리브유에 새우를 볶아 만드\\n는 간단하지만 맛있는 타파스 요리입니다.\\n그리스 요리로는 무사카가 대표적입니다. 가지와 다진 고기를 층층이 쌓고 베샤멜\\n'"
      ]
     },
     "execution_count": 45,
     "metadata": {},
     "output_type": "execute_result"
    }
   ],
   "source": [
    "df.head(1).iloc[[0]].contexts.iloc[0]"
   ]
  },
  {
   "cell_type": "code",
   "execution_count": 46,
   "metadata": {},
   "outputs": [
    {
     "name": "stdout",
     "output_type": "stream",
     "text": [
      "question:\n",
      "타진은 어떤 나라의 요리이며 어떻게 만드나요?\n",
      "ground_truth:\n",
      "타진은 모로코 요리입니다.\n",
      "원뿔 모양의 뚜껑이 있는 특별한 그릇에서 양고기나 닭고기를 채소, 건과일, 올리브와 함께 향신료를 넣어 천천히 조리합니다.\n",
      "question_type:\n",
      "simple\n",
      "contexts:\n",
      "볶다가 뜨거운 육수를 조금씩 부어가며 천천히 익혀 만듭니다.\n",
      "라자냐는 파스타 면과 미트소스, 베샤멜 소스, 치즈를 층층이 쌓아 오븐에 구워내는 풍성한 요리 입니다.\n",
      "피자는 밀가루 반죽을 얇게 펴서 토마토소스를 바르고 모차렐라 치즈와 각종 토핑을 올려 화덕에서 구워냅니다.\n",
      "멕시코 요리에서는 타코가 대표적인데, 또르티야에 구운 고기와 양파, 고수, 라 임을 넣어 먹습니다.\n",
      "엔칠라다는 또르티야에 고기와 치즈를 넣어 말아서 특제 소 스를 부어 오븐에 구워냅니다.\n",
      "부리토는 큰 또르티야에 밥, 콩, 고기, 아보카도 등을 넣어 말아먹는 든든한 한 끼 식사입니다.\n",
      "인도 요리로는 버터치킨이 있는데, 요거트로 마리네이드한 닭고기를 탄두르에 구 워 토마토와 버터가 들어간 크리미한 커리 소스에 조려냅니다.\n",
      "팔락 파니르는 시 금치 커리에 인도식 치즈인 파니르를 넣어 만드는 채식 요리이고, 달 마크니는 렌틸콩을 버터와 크림으로 맛있게 조리한 요리입니다.\n",
      "중동 요리에서는 샤워마가 유명한데, 양고기나 닭고기를 특제 향신료에 재워 수직 으로 구워 얇게 썰어 피타빵에 싸먹습니다.\n",
      "팔라펠은 병아리콩으로 만든 완자를 튀겨서 피타빵에 채소와 함께 넣어 먹습니다.\n",
      "후무스는 병아리콩을 갈아서 타히 니, 레몬즙, 올리브오일과 함께 섞어 만드는 디핑소스입니다.\n",
      "한식으로 돌아와서, 갈비찜은 소갈비를 간장 베이스의 달달한 양념으로 푹 조려내 는 요리입니다.\n",
      "닭갈비는 닭고기를 고추장 양념에 채소와 함께 볶아 치즈를 올려 먹는 요리이고, 족발은 돼지 앞다리를 향신료와 함께 오래 삶아 쫄깃하게 만듭니 다.\n",
      "일식을 더 보면, 규동은 소고기를 달달한 간장 소스로 조려서 밥 위에 올리는 덮 밥입니다.\n",
      "라멘은 진한 육수에 중국식 면을 넣고 차슈와 면발, 죽은 달걀을 올려 먹는 국수이고, 우동은 굵은 밀가루 면을 간장 베이스의 국물에 담아 먹습니다.\n",
      "중식으로는 양장피가 있는데, 해파리와 각종 채소, 고기를 참기름 소스에 무치는 요리입니다.\n",
      "어향육슬은 돼지고기를 채썰어 매콤새콤한 소스로 볶아내고, 팔보채 는 해산물과 채소를 굴소스로 볶아내는 고급 요리입니다.\n",
      "동남아 요리로, 나시고랭은 인도네시아식 볶음밥으로 새우페이스트로 맛을 내는 것이 특징입니다.\n",
      "락사는 코코넛 커리 수프에 면을 넣어 먹는 싱가포르의 대표 요리이고, 할라이는 태국식 바비큐 치킨으로 코코넛밀크에 재워 구워냅니다.\n",
      "서양요리로 더 들어가면, 비프 스트로가노프는 소고기를 버섯과 함께 사워크림 소 스에 조리하는 러시아 요리입니다.\n",
      "코틀렛은 다진 고기를 둥글납작하게 빚어 튀겨 내는 동유럽식 돈까스이고, 비프 부르기뇽은 소고기를 레드와인으로 오래 끓여 만 드는 프랑스 요리입니다.\n",
      "퓨전요리도 있는데, 김치 파스타는 김치를 다져서 파스타와 함께 볶아내는 한국식 퓨전 파스타입니다.\n",
      "불고기 피자는 한국의 불고기를 피자 토핑으로 활용한 퓨전 요리이고, 타코라이스는 멕시코 타코의 속재료를 밥과 함께 먹는 일본식 퓨전요리 입니다.\n",
      "프랑스 요리로 더 살펴보면, 코코뱅은 닭고기를 레드와인에 장시간 끓여 만드는 전통 요리입니다.\n",
      "와인의 풍미가 닭고기에 깊이 배어들어 독특한 맛을 자아내며, 양파와 버섯, 베이컨을 함께 넣어 풍성한 맛을 더합니다.\n",
      "라타투이는 가지, 토마 토, 호박, 파프리카 등 지중해 채소들을 올리브유로 천천히 익혀 만드는 프로방 스 지방의 대표적인 채식 요리입니다.\n",
      "끼슈는 버터가 듬뿍 들어간 파이 반죽 위 에 달걀과 크림을 섞은 커스터드를 붓고 베이컨, 치즈, 채소를 넣어 구워내는 고 소한 요리입니다.\n",
      "스페인 요리에서는 빠에야가 유명한데, 사프란으로 노란빛을 낸 쌀에 해산물과 토 마토, 완두콩을 넣고 특별한 빠에야 팬에서 구수하게 볶아냅니다.\n",
      "가스파초는 토 마토와 오이, 피망을 갈아서 만드는 차가운 스프로, 더운 여름에 즐기기 좋은 상 큼한 요리입니다.\n",
      "또한 감바스 알 아히요는 마늘과 올리브유에 새우를 볶아 만드 는 간단하지만 맛있는 타파스 요리입니다.\n",
      "그리스 요리로는 무사카가 대표적입니다.\n",
      "가지와 다진 고기를 층층이 쌓고 베샤멜 소스를 부어 오븐에 구워내는데, 마치 그리스 버전의 라자냐와 같습니다.\n",
      "수블라 키는 돼지고기를 레몬과 허브로 마리네이드해서 꼬치에 꿰어 구운 다음 피타빵에 싸서 먹는 길거리 음식입니다.\n",
      "돌마데스는 포도잎으로 밥과 다진 고기를 싸서 찐 다음 레몬소스를 곁들이는 전통 요리입니다.\n",
      "그리스 요리로는 무사카가 대표적입니다.\n",
      "가지와 다진 고기를 층층이 쌓고 베샤멜 소스를 부어 오븐에 구워내는데, 마치 그리스 버전의 라자냐와 같습니다.\n",
      "수블라 키는 돼지고기를 레몬과 허브로 마리네이드해서 꼬치에 꿰어 구운 다음 피타빵에 싸서 먹는 길거리 음식입니다.\n",
      "돌마데스는 포도잎으로 밥과 다진 고기를 싸서 찐 다음 레몬소스를 곁들이는 전통 요리입니다.\n",
      "모로코 요리에서는 타진이 유명합니다.\n",
      "원뿔 모양의 뚜껑이 있는 특별한 그릇에서 양고기나 닭고기를 채소, 건과일, 올리브와 함께 향신료를 넣어 천천히 조리합니 다.\n",
      "쿠스쿠스는 잘게 빻은 밀가루로 만든 알갱이에 채소와 고기를 얹어 먹는 북 아프리카의 주식입니다.\n",
      "파스티야는 달콤하면서도 짭짤한 맛이 나는 파이로, 비둘 기고기나 닭고기를 넣고 계피와 설탕을 뿌려 만듭니다.\n",
      "독일 요리로는 슈니첼이 대표적인데, 송아지고기를 얇게 펴서 빵가루를 묻혀 튀긴 다음 레몬을 곁들여 먹습니다.\n",
      "아이스바인은 돼지 정강이를 삶아서 만드는 요리 로, 독일식 김치인 자우어크라우트를 곁들입니다.\n",
      "카세슈팟첸은 치즈를 듬뿍 넣은 수제 스파츨레 면에 구운 양파를 올려 만드는 소울푸드입니다.\n",
      "러시아 요리에서 보르시는 비트를 넣어 선명한 붉은색을 내는 수프로, 양배추와 감자, 당근 등 다양한 채소와 고기를 넣어 푹 끓입니다.\n",
      "피로시키는 밀가루 반죽 으로 만든 주머니에 고기나 감자, 양배추 등을 넣어 튀기거나 구워 만듭니다.\n",
      "올 리비에 샐러드는 삶은 감자, 당근, 완두콩, 달걀, 닭고기를 마요네즈로 버무린 러시아식 감자 샐러드입니다.\n"
     ]
    }
   ],
   "source": [
    "def format_text(text):\n",
    "    \"\"\"마침표를 기준으로 줄바꿈을 추가하여 텍스트를 포맷팅하는 함수입니다.\"\"\"\n",
    "    # 기존 줄바꿈 문자를 공백으로 대체\n",
    "    text = text.replace('\\n', ' ')\n",
    "    \n",
    "    # 연속된 공백을 하나의 공백으로 정리\n",
    "    text = ' '.join(text.split())\n",
    "    \n",
    "    # 마침표와 공백이 있는 패턴을 찾아서 줄바꿈으로 대체\n",
    "    formatted_text = text.replace('. ', '.\\n')\n",
    "    \n",
    "    # 불필요한 빈 줄 제거\n",
    "    formatted_text = '\\n'.join(line.strip() for line in formatted_text.splitlines() if line.strip())\n",
    "    \n",
    "    print(formatted_text)\n",
    "\n",
    "\n",
    "def pretty_print_df(df):\n",
    "    # sample_ground_truth = df.head(1).ground_truth.iloc[0]\n",
    "    # sample_ground_truth = df.ground_truth.iloc[0]\n",
    "    question = df.question.iloc[0]\n",
    "    print(\"question:\")\n",
    "    # print_formatted_text(question)\n",
    "    format_text(question)    \n",
    "\n",
    "    sample_ground_truth = df.ground_truth.iloc[0]\n",
    "    print(\"ground_truth:\")\n",
    "    format_text(sample_ground_truth)\n",
    "\n",
    "    question_type = df.question_type.iloc[0]\n",
    "    print(\"question_type:\")\n",
    "    format_text(question_type)\n",
    "\n",
    "    contexts = df.contexts.iloc[0]\n",
    "    print(\"contexts:\")\n",
    "    format_text(contexts)\n",
    "\n",
    "sample_df = df.iloc[[1]]\n",
    "pretty_print_df(sample_df)    "
   ]
  },
  {
   "cell_type": "code",
   "execution_count": 42,
   "metadata": {},
   "outputs": [
    {
     "data": {
      "application/vnd.jupyter.widget-view+json": {
       "model_id": "338c7b55cfc34c478918b7d1277b2f1b",
       "version_major": 2,
       "version_minor": 0
      },
      "text/plain": [
       "Map:   0%|          | 0/3 [00:00<?, ? examples/s]"
      ]
     },
     "metadata": {},
     "output_type": "display_data"
    },
    {
     "name": "stdout",
     "output_type": "stream",
     "text": [
      "Dataset({\n",
      "    features: ['question', 'ground_truth', 'question_type', 'contexts'],\n",
      "    num_rows: 3\n",
      "})\n"
     ]
    }
   ],
   "source": [
    "from datasets import Dataset\n",
    "import ast\n",
    "\n",
    "\n",
    "def convert_to_list(example):\n",
    "    cleaned_context = clean_string(example[\"contexts\"])\n",
    "    try:\n",
    "        contexts = ast.literal_eval(cleaned_context)\n",
    "    except:\n",
    "        contexts = cleaned_context\n",
    "    return {\"contexts\": contexts}\n",
    "\n",
    "\n",
    "subset_length = 10  # Change \n",
    "test_dataset = Dataset.from_pandas(df.head(subset_length))\n",
    "\n",
    "test_dataset = test_dataset.map(convert_to_list)\n",
    "print(test_dataset)"
   ]
  },
  {
   "cell_type": "code",
   "execution_count": 48,
   "metadata": {},
   "outputs": [
    {
     "data": {
      "text/plain": [
       "{'question': '타진은 어떤 나라의 요리이며 어떻게 만드나요?',\n",
       " 'ground_truth': '타진은 모로코 요리입니다. 원뿔 모양의 뚜껑이 있는 특별한 그릇에서 양고기나 닭고기를 채소, 건과일, 올리브와 함께 향신료를 넣어 천천히 조리합니다.',\n",
       " 'question_type': 'simple',\n",
       " 'contexts': '       .  \\n ,  ,       \\n.         \\n    .\\n   ,    , , \\n  .        \\n   .    , , , \\n      .\\n   ,     \\n       .   \\n        ,  \\n     .\\n   ,      \\n     .    \\n     .    \\n, ,     .\\n ,        \\n .         \\n ,         \\n.\\n  ,          \\n.        ,   \\n ,         .\\n  ,   ,    \\n.      , \\n       .\\n ,      \\n .         \\n,       .\\n  ,       \\n   .      \\n  ,       \\n  .\\n ,        \\n .        \\n,         \\n.\\n   ,      \\n .        ,\\n ,      .  , \\n, ,         \\n    .       \\n      , ,    \\n .\\n   ,      \\n,       .  \\n ,     ,     \\n .         \\n    .\\n   .      \\n    ,     . \\n         \\n   .       \\n    .\\n   .      \\n   ,     . \\n         \\n   .       \\n    .\\n   .      \\n  , ,      \\n.           \\n .      , \\n      .\\n   ,      \\n   .      \\n,    .    \\n       .\\n        , \\n,        .   \\n    ,      . \\n   , , , ,   \\n  .'}"
      ]
     },
     "execution_count": 48,
     "metadata": {},
     "output_type": "execute_result"
    }
   ],
   "source": [
    "test_dataset[1]"
   ]
  },
  {
   "cell_type": "markdown",
   "metadata": {},
   "source": [
    "## RAG Pipeline Setting\n",
    "\n",
    "The test dataset is used to simulate real-world queries in a RAG pipeline, which combines document retrieval with response generation. \n",
    "\n",
    "Here, we are using the default settings for the KnowledgeBase in Amazon Bedrock as part of the RAG configuration.\n",
    "\n",
    "_1. To utilize the code below for testing, the KnowledgeBase must be pre-configured in the Amazon Bedrock console_\n",
    "\n",
    "_2. If you have a specific RAG pipeline you want to evaluate, please modify the cells below accordingly_"
   ]
  },
  {
   "cell_type": "markdown",
   "metadata": {},
   "source": [
    "### Context Retrieval\n",
    "\n",
    "In this section, we will test the system’s ability to retrieve relevant context from the KnowledgeBase using the provided queries. \n",
    "\n",
    "This is a critical step in the RAG pipeline, as the accuracy of the context retrieved has a direct impact on the quality of the generated responses. "
   ]
  },
  {
   "cell_type": "code",
   "execution_count": 11,
   "metadata": {},
   "outputs": [],
   "source": [
    "\n"
   ]
  },
  {
   "cell_type": "code",
   "execution_count": 49,
   "metadata": {},
   "outputs": [
    {
     "name": "stdout",
     "output_type": "stream",
     "text": [
      "question:\n",
      " 타진은 어떤 나라의 요리이며 어떻게 만드나요?\n",
      "context from Amazon KB:\n",
      "끼슈는 버터가 듬뿍 들어간 파이 반죽 위 에 달걀과 크림을 섞은 커스터드를 붓고 베이컨, 치즈, 채소를 넣어 구워내는 고 소한 요리입니다.\n",
      "스페인 요리에서는 빠에야가 유명한데, 사프란으로 노란빛을 낸 쌀에 해산물과 토 마토, 완두콩을 넣고 특별한 빠에야 팬에서 구수하게 볶아냅니다.\n",
      "가스파초는 토 마토와 오이, 피망을 갈아서 만드는 차가운 스프로, 더운 여름에 즐기기 좋은 상 큼한 요리입니다.\n",
      "또한 감바스 알 아히요는 마늘과 올리브유에 새우를 볶아 만드 는 간단하지만 맛있는 타파스 요리입니다.\n",
      "그리스 요리로는 무사카가 대표적입니다.\n",
      "가지와 다진 고기를 층층이 쌓고 베샤멜 소스를 부어 오븐에 구워내는데, 마치 그리스 버전의 라자냐와 같습니다.\n",
      "수블라 키는 돼지고기를 레몬과 허브로 마리네이드해서 꼬치에 꿰어 구운 다음 피타빵에 싸서 먹는 길거리 음식입니다.\n",
      "돌마데스는 포도잎으로 밥과 다진 고기를 싸서 찐 다음 레몬소스를 곁들이는 전통 요리입니다.그리스 요리로는 무사카가 대표적입니다.\n",
      "가지와 다진 고기를 층층이 쌓고 베샤멜 소스를 부어 오븐에 구워내는데, 마치 그리스 버전의 라자냐와 같습니다.\n",
      "수블라 키는 돼지고기를 레몬과 허브로 마리네이드해서 꼬치에 꿰어 구운 다음 피타빵에 싸서 먹는 길거리 음식입니다.\n",
      "돌마데스는 포도잎으로 밥과 다진 고기를 싸서 찐 다음 레몬소스를 곁들이는 전통 요리입니다.\n",
      "모로코 요리에서는 타진이 유명합니다.\n",
      "원뿔 모양의 뚜껑이 있는 특별한 그릇에서 양고기나 닭고기를 채소, 건과일, 올리브와 함께 향신료를 넣어 천천히 조리합니 다.\n",
      "쿠스쿠스는 잘게 빻은 밀가루로 만든 알갱이에 채소와 고기를 얹어 먹는 북 아프리카의 주식입니다.\n",
      "파스티야는 달콤하면서도 짭짤한 맛이 나는 파이로, 비둘 기고기나 닭고기를 넣고 계피와 설탕을 뿌려 만듭니다.\n",
      "독일 요리로는 슈니첼이 대표적인데, 송아지고기를 얇게 펴서 빵가루를 묻혀 튀긴 다음 레몬을 곁들여 먹습니다.\n",
      "아이스바인은 돼지 정강이를 삶아서 만드는 요리 로, 독일식 김치인 자우어크라우트를 곁들입니다.\n",
      "카세슈팟첸은 치즈를 듬뿍 넣은 수제 스파츨레 면에 구운 양파를 올려 만드는 소울푸드입니다.\n",
      "러시아 요리에서 보르시는 비트를 넣어 선명한 붉은색을 내는 수프로, 양배추와 감자, 당근 등 다양한 채소와 고기를 넣어 푹 끓입니다.\n",
      "피로시키는 밀가루 반죽 으로 만든 주머니에 고기나 감자, 양배추 등을 넣어 튀기거나 구워 만듭니다.\n",
      "올 리비에 샐러드는 삶은 감자, 당근, 완두콩, 달걀, 닭고기를 마요네즈로 버무린 러시아식 감자 샐러드입니다.\n",
      "-- 인도 요리로는 버터치킨이 있는데, 요거트로 마리네이드한 닭고기를 탄두르에 구 워 토마토와 버터가 들어간 크리미한 커리 소스에 조려냅니다.\n",
      "팔락 파니르는 시 금치 커리에 인도식 치즈인 파니르를 넣어 만드는 채식 요리이고, 달 마크니는 렌틸콩을 버터와 크림으로 맛있게 조리한 요리입니다.중동 요리에서는 샤워마가 유명한데, 양고기나 닭고기를 특제 향신료에 재워 수직 으로 구워 얇게 썰어 피타빵에 싸먹습니다.\n",
      "팔라펠은 병아리콩으로 만든 완자를 튀겨서 피타빵에 채소와 함께 넣어 먹습니다.\n",
      "후무스는 병아리콩을 갈아서 타히 니, 레몬즙, 올리브오일과 함께 섞어 만드는 디핑소스입니다.\n",
      "한식으로 돌아와서, 갈비찜은 소갈비를 간장 베이스의 달달한 양념으로 푹 조려내 는 요리입니다.\n",
      "닭갈비는 닭고기를 고추장 양념에 채소와 함께 볶아 치즈를 올려 먹는 요리이고, 족발은 돼지 앞다리를 향신료와 함께 오래 삶아 쫄깃하게 만듭니 다.\n",
      "일식을 더 보면, 규동은 소고기를 달달한 간장 소스로 조려서 밥 위에 올리는 덮 밥입니다.\n",
      "라멘은 진한 육수에 중국식 면을 넣고 차슈와 면발, 죽은 달걀을 올려 먹는 국수이고, 우동은 굵은 밀가루 면을 간장 베이스의 국물에 담아 먹습니다.\n",
      "중식으로는 양장피가 있는데, 해파리와 각종 채소, 고기를 참기름 소스에 무치는 요리입니다.\n",
      "어향육슬은 돼지고기를 채썰어 매콤새콤한 소스로 볶아내고, 팔보채 는 해산물과 채소를 굴소스로 볶아내는 고급 요리입니다.\n",
      "동남아 요리로, 나시고랭은 인도네시아식 볶음밥으로 새우페이스트로 맛을 내는 것이 특징입니다.\n",
      "락사는 코코넛 커리 수프에 면을 넣어 먹는 싱가포르의 대표 요리이고, 할라이는 태국식 바비큐 치킨으로 코코넛밀크에 재워 구워냅니다.\n",
      "서양요리로 더 들어가면, 비프 스트로가노프는 소고기를 버섯과 함께 사워크림 소 스에 조리하는 러시아 요리입니다.\n",
      "코틀렛은 다진 고기를 둥글납작하게 빚어 튀겨 내는 동유럽식 돈까스이고, 비프 부르기뇽은 소고기를 레드와인으로 오래 끓여 만 드는 프랑스 요리입니다.\n",
      "퓨전요리도 있는데, 김치 파스타는 김치를 다져서 파스타와 함께 볶아내는 한국식 퓨전 파스타입니다.\n",
      "불고기 피자는 한국의 불고기를 피자 토핑으로 활용한 퓨전 요리이고, 타코라이스는 멕시코 타코의 속재료를 밥과 함께 먹는 일본식 퓨전요리 입니다.\n",
      "프랑스 요리로 더 살펴보면, 코코뱅은 닭고기를 레드와인에 장시간 끓여 만드는 전통 요리입니다.\n",
      "와인의 풍미가 닭고기에 깊이 배어들어 독특한 맛을 자아내며, 양파와 버섯, 베이컨을 함께 넣어 풍성한 맛을 더합니다.\n",
      "라타투이는 가지, 토마 토, 호박, 파프리카 등 지중해 채소들을 올리브유로 천천히 익혀 만드는 프로방 스 지방의 대표적인 채식 요리입니다.\n",
      "-- 볶음요리로는 먼저 김치볶음밥이 있는데, 잘 익은 김치를 잘게 썰어 밥과 함께 볶다가 마지막에 참기름을 둘러 고소한 향을 더합니다.\n",
      "제육볶음은 돼지고기를 고 추장 양념에 버무려 매콤달콤하게 볶아내며, 양파와 당근 등 채소를 함께 넣어 영양을 높입니다.\n",
      "낙지볶음은 신선한 낙지를 손질해 고추장 양념에 볶아 매콤하게 만드는 요리입니다.\n",
      "양식으로는 크림파스타가 대표적인데, 생크림과 마늘, 양파를 볶아 소스를 만들고 베이컨이나 새우를 더해 고소하게 완성합니다.\n",
      "토마토파스타는 토마토소스에 마늘 과 양파를 볶아 넣고 바질을 곁들여 상큼한 맛을 냅니다.\n",
      "미트소스스파게티는 다 진 쇠고기를 토마토소스와 함께 오래 끓여 깊은 맛을 만듭니다.\n",
      "일식에서는 돈카츠가 인기 있는 메뉴로, 돼지고기를 얇게 펴서 빵가루를 묻혀 바 삭하게 튀겨내고 특제 소스를 곁들입니다.\n",
      "카레라이스는 당근, 감자, 양파를 카 레가루와 함께 끓여 걸쭉한 소스를 만들어 밥에 부어 먹습니다.\n",
      "오야코동은 닭고 기와 달걀을 간장 베이스의 달달한 육수에 조려 밥 위에 올립니다.\n",
      "중식으로는 마파두부가 있는데, 두부와 다진 고기를 매운 두반장 소스에 볶아 만 듭니다.\n",
      "깐풍기는 닭고기를 튀겨서 매콤달콤한 소스를 絡めて만드는 요리이고, 탕 수육은 돼지고기를 튀겨서 새콤달콤한 소스를 부어 먹습니다.\n",
      "태국 요리로는 팟타이가 유명한데, 쌀국수를 새우와 함께 볶고 땅콩가루를 뿌려 고소한 맛을 냅니다.\n",
      "그린커리는 코코넛밀크와 향신료를 넣어 만든 커리에 닭고기 와 가지를 넣어 끓입니다.\n",
      "톰얌쿵은 새우와 버섯을 레몬그라스, 카피르라임 등의 향신료와 함께 시큼매콤하게 끓이는 수프입니다.\n",
      "베트남 요리에서는 쌀국수인 포가 대표적인데, 소고기 육수에 쌀국수와 고기를 넣 고 고수, 숙주나물을 곁들여 먹습니다.\n",
      "반미는 바게트빵에 각종 채소와 고기를 넣어 만드는 샌드위치이며, 분짜는 구운 돼지고기와 쌀국수를 느억맘 소스에 찍어 먹는 요리입니다.\n",
      "이탈리아 요리로 더 들어가보면, 리소토는 아르보리오 쌀을 화이트와인과 버터로 볶다가 뜨거운 육수를 조금씩 부어가며 천천히 익혀 만듭니다.\n",
      "라자냐는 파스타 면과 미트소스, 베샤멜 소스, 치즈를 층층이 쌓아 오븐에 구워내는 풍성한 요리 입니다.\n",
      "피자는 밀가루 반죽을 얇게 펴서 토마토소스를 바르고 모차렐라 치즈와 각종 토핑을 올려 화덕에서 구워냅니다.\n",
      "멕시코 요리에서는 타코가 대표적인데, 또르티야에 구운 고기와 양파, 고수, 라 임을 넣어 먹습니다.\n",
      "엔칠라다는 또르티야에 고기와 치즈를 넣어 말아서 특제 소 스를 부어 오븐에 구워냅니다.\n",
      "부리토는 큰 또르티야에 밥, 콩, 고기, 아보카도 등을 넣어 말아먹는 든든한 한 끼 식사입니다.\n",
      "None\n"
     ]
    }
   ],
   "source": [
    "# RAG implementation sample 1 (Replace with RAG pipeline for evaluation)\n",
    "from libs.bedrock_kb_util import context_retrieval_from_kb\n",
    "\n",
    "amazon_kb_id = 'RAILTN1YDB'\n",
    "\n",
    "# question = test_dataset[0]['question']\n",
    "question = test_dataset[1]['question']\n",
    "print(\"question:\\n\", question)\n",
    "search_result = context_retrieval_from_kb(question, 3, 'us-west-2', amazon_kb_id, 'SEMANTIC')\n",
    "# print(\"search_result[0]:\", search_result[0])\n",
    "\n",
    "contexts = \"\\n--\\n\".join([result['content'] for result in search_result])\n",
    "print(\"context from Amazon KB:\")\n",
    "print(format_text(contexts))\n",
    "# print_formatted_text(contexts)"
   ]
  },
  {
   "cell_type": "code",
   "execution_count": 52,
   "metadata": {},
   "outputs": [],
   "source": [
    "import boto3\n",
    "from botocore.config import Config\n",
    "\n",
    "model_id = \"anthropic.claude-3-5-sonnet-20240620-v1:0\"\n",
    "region = 'us-west-2'\n",
    "\n",
    "retry_config = Config(\n",
    "    region_name=region,\n",
    "    retries={\"max_attempts\": 10, \"mode\": \"standard\"}\n",
    ")\n",
    "boto3_client = boto3.client(\"bedrock-runtime\", config=retry_config)"
   ]
  },
  {
   "cell_type": "markdown",
   "metadata": {},
   "source": [
    "### Answer Generation\n",
    "\n",
    "Here, we are generating answers based on the retrieved context. "
   ]
  },
  {
   "cell_type": "code",
   "execution_count": 53,
   "metadata": {},
   "outputs": [
    {
     "name": "stdout",
     "output_type": "stream",
     "text": [
      "타진은 모로코 요리입니다. 원뿔 모양의 뚜껑이 있는 특별한 그릇에서 양고기나 닭고기를 채소, 건과일, 올리브와 함께 향신료를 넣어 천천히 조리합니다. 이 요리는 모로코의 전통적인 조리 방법을 사용하여 만듭니다.\n"
     ]
    }
   ],
   "source": [
    "\n",
    "\n",
    "def generate_answer(question, contexts):\n",
    "    system_prompt = \"\"\"You are an AI assistant that uses retrieved context to answer questions accurately. \n",
    "    Follow these guidelines:\n",
    "    1. Use the provided context to inform your answers.\n",
    "    2. If the context doesn't contain relevant information, say \"I don't have enough information to answer that.\"\n",
    "    3. Be concise and to the point in your responses.\"\"\"\n",
    "\n",
    "    user_prompt = f\"\"\"Context: {contexts}\n",
    "\n",
    "    Question: {question}\n",
    "\n",
    "    Please answer the question based on the given context.\"\"\"\n",
    "\n",
    "    response = boto3_client.converse(\n",
    "        modelId=model_id,\n",
    "        messages=[{'role': 'user', 'content': [{'text': user_prompt}]}],\n",
    "        system=[{'text': system_prompt}]\n",
    "    )\n",
    "\n",
    "    answer = response['output']['message']['content'][0]['text']\n",
    "    return answer\n",
    "\n",
    "answer = generate_answer(question, contexts)\n",
    "print_formatted_text(answer)\n"
   ]
  },
  {
   "cell_type": "code",
   "execution_count": 54,
   "metadata": {},
   "outputs": [
    {
     "name": "stdout",
     "output_type": "stream",
     "text": [
      "타진은 모로코 요리입니다. 원뿔 모양의 뚜껑이 있는 특별한 그릇에서 양고기나 닭고기를 채소, 건과일, 올리브와 함께 향신료를 넣어 천천히 조리합니다.\n"
     ]
    }
   ],
   "source": [
    "print_formatted_text(sample_ground_truth)"
   ]
  },
  {
   "cell_type": "markdown",
   "metadata": {},
   "source": [
    "### Full Process for All Sample Questions\n",
    "\n",
    "This section runs the entire pipeline, from context retrieval to answer generation, across a set of sample questions"
   ]
  },
  {
   "cell_type": "code",
   "execution_count": 55,
   "metadata": {},
   "outputs": [
    {
     "name": "stderr",
     "output_type": "stream",
     "text": [
      "Parameter 'function'=<function process_item at 0x7f515893caf0> of the transform datasets.arrow_dataset.Dataset._map_single couldn't be hashed properly, a random hash was used instead. Make sure your transforms and parameters are serializable with pickle or dill for the dataset fingerprinting and caching to work. If you reuse this transform, the caching mechanism will consider it to be different from the previous calls and recompute everything. This warning is only showed once. Subsequent hashing failures won't be showed.\n"
     ]
    },
    {
     "data": {
      "application/vnd.jupyter.widget-view+json": {
       "model_id": "40584b072a9b4689b30e7a02ecca84cb",
       "version_major": 2,
       "version_minor": 0
      },
      "text/plain": [
       "Map:   0%|          | 0/3 [00:00<?, ? examples/s]"
      ]
     },
     "metadata": {},
     "output_type": "display_data"
    }
   ],
   "source": [
    "from time import sleep\n",
    "\n",
    "kb_region = 'us-west-2'\n",
    "kb_id = amazon_kb_id\n",
    "top_k = 3\n",
    "\n",
    "def process_item(item):\n",
    "    sleep(5)  # Prevent throttling\n",
    "    question = item['question']\n",
    "    search_result = context_retrieval_from_kb(question, top_k, kb_region, kb_id, 'SEMANTIC')\n",
    "\n",
    "    contexts = [result['content'] for result in search_result]\n",
    "    answer = generate_answer(question, \"\\n--\\n\".join(contexts))\n",
    "\n",
    "    return {\n",
    "        'question': item['question'],\n",
    "        'ground_truth': item['ground_truth'],\n",
    "        'original_contexts': item['contexts'],\n",
    "        'retrieved_contexts': contexts,\n",
    "        'answer': answer\n",
    "    }\n",
    "\n",
    "updated_dataset = test_dataset.map(process_item)"
   ]
  },
  {
   "cell_type": "markdown",
   "metadata": {},
   "source": [
    "### Saving Intermediate Results to File"
   ]
  },
  {
   "cell_type": "code",
   "execution_count": 56,
   "metadata": {},
   "outputs": [
    {
     "name": "stdout",
     "output_type": "stream",
     "text": [
      "Dataset saved to ../data/sample_processed_qa_dataset.jsonl\n"
     ]
    }
   ],
   "source": [
    "import json\n",
    "output_file = \"../data/sample_processed_qa_dataset.jsonl\"\n",
    "\n",
    "with open(output_file, 'w', encoding='utf-8') as f:\n",
    "    for item in updated_dataset:\n",
    "        json.dump(item, f, ensure_ascii=False)\n",
    "        f.write('\\n')\n",
    "\n",
    "print(f\"Dataset saved to {output_file}\")"
   ]
  },
  {
   "cell_type": "markdown",
   "metadata": {},
   "source": [
    "Data Format Verification"
   ]
  },
  {
   "cell_type": "code",
   "execution_count": 58,
   "metadata": {},
   "outputs": [
    {
     "name": "stdout",
     "output_type": "stream",
     "text": [
      "Question: 타진은 어떤 나라의 요리이며 어떻게 만드나요?\n",
      "\n",
      "\n",
      "Answer: 타진은 모로코 요리입니다. 타진은 다음과 같이 만듭니다:\n",
      "\n",
      "1. 원뿔 모양의 뚜껑이 있는 특별한 그릇(타진 그릇)을 사용합니다.\n",
      "2. 이 그릇에 양고기나 닭고기를 주 재료로 사용합니다.\n",
      "3. 여기에 채소, 건과일, 올리브를 함께 넣습니다.\n",
      "4. 다양한 향신료를 추가합니다.\n",
      "5. 이 모든 재료를 천천히 조리합니다.\n",
      "\n",
      "타진은 모로코의 전통적인 조리 방법으로, 재료들의 맛과 향이 잘 어우러지도록 천천히 조리하는 것이 특징입니다.\n"
     ]
    }
   ],
   "source": [
    "import json\n",
    "from datasets import Dataset\n",
    "\n",
    "input_file = \"../data/sample_processed_qa_dataset.jsonl\"\n",
    "def read_jsonl(file_path):\n",
    "    with open(file_path, 'r', encoding='utf-8') as f:\n",
    "        for line in f:\n",
    "            yield json.loads(line.strip())\n",
    "\n",
    "updated_dataset = Dataset.from_list(list(read_jsonl(input_file)))\n",
    "\n",
    "# item = updated_dataset[0]\n",
    "item = updated_dataset[1]\n",
    "print(f\"Question: {item['question']}\\n\\n\")\n",
    "print(f\"Answer: {item['answer']}\")"
   ]
  },
  {
   "cell_type": "markdown",
   "metadata": {},
   "source": [
    "## Evaluation for Each Metric\n",
    "\n",
    "We now evaluate the system based on various metrics. \n",
    "\n",
    "For detailed implementations, refer to the `libs/custom_ragas.py` file. \n",
    "\n",
    "This script contains the specific evaluation criteria that we use to assess the performance of the RAG pipeline across different dimensions, such as accuracy and relevance."
   ]
  },
  {
   "cell_type": "code",
   "execution_count": 59,
   "metadata": {},
   "outputs": [
    {
     "data": {
      "application/vnd.jupyter.widget-view+json": {
       "model_id": "d0e47d4cbed94f94aeaf7bae33dd8c65",
       "version_major": 2,
       "version_minor": 0
      },
      "text/plain": [
       "Map:   0%|          | 0/3 [00:00<?, ? examples/s]"
      ]
     },
     "metadata": {},
     "output_type": "display_data"
    },
    {
     "name": "stdout",
     "output_type": "stream",
     "text": [
      "AnswerRelevancy - Row 1: Score = 0.6485538150249124\n",
      "Faithfulness - Row 1: Score = 1.0\n",
      "ContextRecall - Row 1: Score = 1.0\n",
      "ContextPrecision - Row 1: Score = 0.9999999999\n",
      "AnswerRelevancy - Row 2: Score = 0.7297024390832281\n",
      "Faithfulness - Row 2: Score = 0.6666666666666666\n",
      "ContextRecall - Row 2: Score = 1.0\n",
      "ContextPrecision - Row 2: Score = 0.9999999999\n",
      "AnswerRelevancy - Row 3: Score = 0.4376765886634959\n",
      "Faithfulness - Row 3: Score = 1.0\n",
      "ContextRecall - Row 3: Score = 1.0\n",
      "ContextPrecision - Row 3: Score = 0.49999999995\n",
      "Average Scores:\n",
      "{'AnswerRelevancy': 0.6053109475905455, 'Faithfulness': 0.8888888888888888, 'ContextRecall': 1.0, 'ContextPrecision': 0.83333333325}\n",
      "\n",
      "Detailed Results:\n",
      "{'row': 1, 'AnswerRelevancy': 0.6485538150249124, 'Faithfulness': 1.0, 'ContextRecall': 1.0, 'ContextPrecision': 0.9999999999}\n",
      "{'row': 2, 'AnswerRelevancy': 0.7297024390832281, 'Faithfulness': 0.6666666666666666, 'ContextRecall': 1.0, 'ContextPrecision': 0.9999999999}\n",
      "{'row': 3, 'AnswerRelevancy': 0.4376765886634959, 'Faithfulness': 1.0, 'ContextRecall': 1.0, 'ContextPrecision': 0.49999999995}\n"
     ]
    }
   ],
   "source": [
    "from libs.custom_ragas import (\n",
    "    evaluate,\n",
    "    AnswerRelevancy, \n",
    "    Faithfulness, \n",
    "    ContextRecall,\n",
    "    ContextPrecision\n",
    ")\n",
    "\n",
    "llm_id = \"anthropic.claude-3-5-sonnet-20240620-v1:0\"\n",
    "emb_id = \"amazon.titan-embed-text-v2:0\"\n",
    "region = \"us-west-2\"\n",
    "\n",
    "metrics = [AnswerRelevancy, Faithfulness, ContextRecall, ContextPrecision]\n",
    "\n",
    "def map_dataset(example):\n",
    "    return {\n",
    "        \"user_input\": example[\"question\"],\n",
    "        \"retrieved_contexts\": example[\"retrieved_contexts\"],\n",
    "        \"referenced_contexts\": example[\"original_contexts\"],\n",
    "        \"response\": example[\"answer\"],\n",
    "        \"reference\": example[\"ground_truth\"]\n",
    "    }\n",
    "\n",
    "dataset = updated_dataset.map(map_dataset)\n",
    "results = evaluate(dataset, metrics, llm_id, emb_id, region)\n",
    "\n",
    "print(\"Average Scores:\")\n",
    "print(results['average_scores'])\n",
    "\n",
    "print(\"\\nDetailed Results:\")\n",
    "for row in results['detailed_results']:\n",
    "    print(row)"
   ]
  },
  {
   "cell_type": "code",
   "execution_count": 61,
   "metadata": {},
   "outputs": [
    {
     "name": "stdout",
     "output_type": "stream",
     "text": [
      "Results saved to ../data/sample_ragas_result.json\n",
      "{'average_scores': {'AnswerRelevancy': 0.6053109475905455, 'Faithfulness': 0.8888888888888888, 'ContextRecall': 1.0, 'ContextPrecision': 0.83333333325}, 'detailed_results': [{'row': 1, 'AnswerRelevancy': 0.6485538150249124, 'Faithfulness': 1.0, 'ContextRecall': 1.0, 'ContextPrecision': 0.9999999999}, {'row': 2, 'AnswerRelevancy': 0.7297024390832281, 'Faithfulness': 0.6666666666666666, 'ContextRecall': 1.0, 'ContextPrecision': 0.9999999999}, {'row': 3, 'AnswerRelevancy': 0.4376765886634959, 'Faithfulness': 1.0, 'ContextRecall': 1.0, 'ContextPrecision': 0.49999999995}]}\n"
     ]
    }
   ],
   "source": [
    "json_results = {\n",
    "    'average_scores': results['average_scores'],\n",
    "    'detailed_results': results['detailed_results']\n",
    "}\n",
    "\n",
    "json_filename = \"../data/sample_ragas_result.json\"\n",
    "\n",
    "with open(json_filename, 'w', encoding='utf-8') as f:\n",
    "    json.dump(json_results, f, ensure_ascii=False, indent=4)\n",
    "\n",
    "print(f\"Results saved to {json_filename}\")\n",
    "print(json_results)\n"
   ]
  },
  {
   "cell_type": "code",
   "execution_count": null,
   "metadata": {},
   "outputs": [],
   "source": []
  }
 ],
 "metadata": {
  "kernelspec": {
   "display_name": "Python 3",
   "language": "python",
   "name": "python3"
  },
  "language_info": {
   "codemirror_mode": {
    "name": "ipython",
    "version": 3
   },
   "file_extension": ".py",
   "mimetype": "text/x-python",
   "name": "python",
   "nbconvert_exporter": "python",
   "pygments_lexer": "ipython3",
   "version": "3.10.14"
  }
 },
 "nbformat": 4,
 "nbformat_minor": 2
}
